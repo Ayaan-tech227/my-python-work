{
 "cells": [
  {
   "cell_type": "code",
   "execution_count": 1,
   "id": "ae6da187-751a-4883-962a-c7aa591f9d08",
   "metadata": {},
   "outputs": [
    {
     "name": "stdout",
     "output_type": "stream",
     "text": [
      "6\n"
     ]
    }
   ],
   "source": [
    "print(abs(-6))"
   ]
  },
  {
   "cell_type": "code",
   "execution_count": 2,
   "id": "2ef5afae-4fc3-4627-b275-945a9ca01904",
   "metadata": {},
   "outputs": [
    {
     "name": "stdout",
     "output_type": "stream",
     "text": [
      "50.0\n"
     ]
    }
   ],
   "source": [
    "print(eval('300/6'))"
   ]
  },
  {
   "cell_type": "code",
   "execution_count": 3,
   "id": "854a3e0d-8940-4d77-9699-57e37928127c",
   "metadata": {},
   "outputs": [
    {
     "name": "stdout",
     "output_type": "stream",
     "text": [
      "0000124\n"
     ]
    }
   ],
   "source": [
    "print(format(124,'07d'))"
   ]
  },
  {
   "cell_type": "code",
   "execution_count": 4,
   "id": "ed815d77-485c-4ba1-a73e-20cd174c2bbb",
   "metadata": {},
   "outputs": [
    {
     "name": "stdout",
     "output_type": "stream",
     "text": [
      "{'__name__': '__main__', '__doc__': 'Automatically created module for IPython interactive environment', '__package__': None, '__loader__': None, '__spec__': None, '__builtin__': <module 'builtins' (built-in)>, '__builtins__': <module 'builtins' (built-in)>, '_ih': ['', 'print(abs(-6))', \"print(eval('300/6'))\", \"print(format(124,'07d'))\", 'print(globals())'], '_oh': {}, '_dh': [WindowsPath('C:/Users/AYAAN/Desktop/python work')], 'In': ['', 'print(abs(-6))', \"print(eval('300/6'))\", \"print(format(124,'07d'))\", 'print(globals())'], 'Out': {}, 'get_ipython': <bound method InteractiveShell.get_ipython of <ipykernel.zmqshell.ZMQInteractiveShell object at 0x000001CCEFBA7BD0>>, 'exit': <IPython.core.autocall.ZMQExitAutocall object at 0x000001CCEFBCC390>, 'quit': <IPython.core.autocall.ZMQExitAutocall object at 0x000001CCEFBCC390>, 'open': <function open at 0x000001CCEDB9C7C0>, '_': '', '__': '', '___': '', '__session__': 'C:\\\\Users\\\\AYAAN\\\\Desktop\\\\python work\\\\Untitled15.ipynb', '_i': \"print(format(124,'07d'))\", '_ii': \"print(eval('300/6'))\", '_iii': 'print(abs(-6))', '_i1': 'print(abs(-6))', '_i2': \"print(eval('300/6'))\", '_i3': \"print(format(124,'07d'))\", '_i4': 'print(globals())'}\n"
     ]
    }
   ],
   "source": [
    "print(globals())"
   ]
  },
  {
   "cell_type": "code",
   "execution_count": 5,
   "id": "13b8f357-3d54-43cb-b57d-16cff2af9314",
   "metadata": {},
   "outputs": [],
   "source": [
    "bowling_score = 11234567890-1234567890-1234567890-1234567890"
   ]
  },
  {
   "cell_type": "code",
   "execution_count": 6,
   "id": "9aeb393d-5628-40fd-baec-a74ad7fe3f39",
   "metadata": {},
   "outputs": [
    {
     "data": {
      "text/plain": [
       "7530864220"
      ]
     },
     "execution_count": 6,
     "metadata": {},
     "output_type": "execute_result"
    }
   ],
   "source": [
    "bowling_score"
   ]
  },
  {
   "cell_type": "code",
   "execution_count": 7,
   "id": "5e25b72e-26bb-4743-a169-365f2896891d",
   "metadata": {},
   "outputs": [
    {
     "data": {
      "text/plain": [
       "1979706440496"
      ]
     },
     "execution_count": 7,
     "metadata": {},
     "output_type": "execute_result"
    }
   ],
   "source": [
    "id(bowling_score)"
   ]
  },
  {
   "cell_type": "code",
   "execution_count": 8,
   "id": "20860563-7213-4a65-835e-3881d48261b0",
   "metadata": {},
   "outputs": [
    {
     "data": {
      "text/plain": [
       "False"
      ]
     },
     "execution_count": 8,
     "metadata": {},
     "output_type": "execute_result"
    }
   ],
   "source": [
    "isinstance('23',int)"
   ]
  },
  {
   "cell_type": "code",
   "execution_count": 9,
   "id": "c8818c11-c35c-4cb7-96cf-af1e90852841",
   "metadata": {},
   "outputs": [
    {
     "name": "stdout",
     "output_type": "stream",
     "text": [
      "False\n",
      "True\n"
     ]
    }
   ],
   "source": [
    "class AA:\n",
    "    pass\n",
    "class AB(AA):\n",
    "    pass\n",
    "print(issubclass(AA,AB))    \n",
    "print(issubclass(AB,AA))    "
   ]
  },
  {
   "cell_type": "code",
   "execution_count": 10,
   "id": "3966c4d1-e317-4b36-9a70-2c40354f39cb",
   "metadata": {},
   "outputs": [
    {
     "name": "stdout",
     "output_type": "stream",
     "text": [
      "{'a': 55555555555550}\n"
     ]
    }
   ],
   "source": [
    "def my():\n",
    "    a =55555555555550\n",
    "    print(locals())\n",
    "\n",
    "my()"
   ]
  },
  {
   "cell_type": "code",
   "execution_count": null,
   "id": "3f2f29d7-7123-424c-af55-8ba0bc23f87c",
   "metadata": {},
   "outputs": [],
   "source": []
  },
  {
   "cell_type": "code",
   "execution_count": 11,
   "id": "4ccec890-7771-4c41-8529-d5de9cba2125",
   "metadata": {},
   "outputs": [
    {
     "name": "stdout",
     "output_type": "stream",
     "text": [
      "[46, 68, 90, 112, 33]\n"
     ]
    }
   ],
   "source": [
    "print(list(map(lambda a: a+23,[23,45,67,89,10])))"
   ]
  },
  {
   "cell_type": "code",
   "execution_count": 16,
   "id": "34a92f77-f347-41cf-b542-7f1aa65f28ac",
   "metadata": {},
   "outputs": [
    {
     "name": "stdout",
     "output_type": "stream",
     "text": [
      "(10, 8, 9, 6, 7, 5, 4, 3, 2, 1)\n",
      "10\n",
      "1\n",
      "[1, 2, 3, 4, 5, 6, 7, 8, 9, 10]\n"
     ]
    }
   ],
   "source": [
    "l = (1,2,3,4,5,7,6,9,8,10)\n",
    "print(tuple(reversed(l)))\n",
    "print(max(l))\n",
    "print(min(l))\n",
    "print(sorted(l))"
   ]
  },
  {
   "cell_type": "code",
   "execution_count": 14,
   "id": "7a63a630-5604-400a-9c81-a62615779038",
   "metadata": {},
   "outputs": [
    {
     "data": {
      "text/plain": [
       "['__add__',\n",
       " '__class__',\n",
       " '__class_getitem__',\n",
       " '__contains__',\n",
       " '__delattr__',\n",
       " '__delitem__',\n",
       " '__dir__',\n",
       " '__doc__',\n",
       " '__eq__',\n",
       " '__format__',\n",
       " '__ge__',\n",
       " '__getattribute__',\n",
       " '__getitem__',\n",
       " '__getstate__',\n",
       " '__gt__',\n",
       " '__hash__',\n",
       " '__iadd__',\n",
       " '__imul__',\n",
       " '__init__',\n",
       " '__init_subclass__',\n",
       " '__iter__',\n",
       " '__le__',\n",
       " '__len__',\n",
       " '__lt__',\n",
       " '__mul__',\n",
       " '__ne__',\n",
       " '__new__',\n",
       " '__reduce__',\n",
       " '__reduce_ex__',\n",
       " '__repr__',\n",
       " '__reversed__',\n",
       " '__rmul__',\n",
       " '__setattr__',\n",
       " '__setitem__',\n",
       " '__sizeof__',\n",
       " '__str__',\n",
       " '__subclasshook__',\n",
       " 'append',\n",
       " 'clear',\n",
       " 'copy',\n",
       " 'count',\n",
       " 'extend',\n",
       " 'index',\n",
       " 'insert',\n",
       " 'pop',\n",
       " 'remove',\n",
       " 'reverse',\n",
       " 'sort']"
      ]
     },
     "execution_count": 14,
     "metadata": {},
     "output_type": "execute_result"
    }
   ],
   "source": [
    "dir([])"
   ]
  },
  {
   "cell_type": "code",
   "execution_count": 20,
   "id": "8bca63eb-5377-4139-b687-ea52a046b7e3",
   "metadata": {},
   "outputs": [
    {
     "name": "stdout",
     "output_type": "stream",
     "text": [
      "0 a\n",
      "1 b\n",
      "2 c\n"
     ]
    }
   ],
   "source": [
    "for i,lolo in enumerate(['a','b','c']):\n",
    "    print(i,lolo)\n"
   ]
  },
  {
   "cell_type": "code",
   "execution_count": null,
   "id": "8ade8a16-bbef-4871-ab41-52674af27475",
   "metadata": {},
   "outputs": [],
   "source": []
  }
 ],
 "metadata": {
  "kernelspec": {
   "display_name": "Python 3 (ipykernel)",
   "language": "python",
   "name": "python3"
  },
  "language_info": {
   "codemirror_mode": {
    "name": "ipython",
    "version": 3
   },
   "file_extension": ".py",
   "mimetype": "text/x-python",
   "name": "python",
   "nbconvert_exporter": "python",
   "pygments_lexer": "ipython3",
   "version": "3.11.7"
  }
 },
 "nbformat": 4,
 "nbformat_minor": 5
}
