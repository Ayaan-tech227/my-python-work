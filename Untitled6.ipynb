{
 "cells": [
  {
   "cell_type": "code",
   "execution_count": 7,
   "id": "24ed81ec-8eb7-4de0-829f-f113d169b2f8",
   "metadata": {},
   "outputs": [
    {
     "data": {
      "text/plain": [
       "['__add__',\n",
       " '__class__',\n",
       " '__class_getitem__',\n",
       " '__contains__',\n",
       " '__delattr__',\n",
       " '__delitem__',\n",
       " '__dir__',\n",
       " '__doc__',\n",
       " '__eq__',\n",
       " '__format__',\n",
       " '__ge__',\n",
       " '__getattribute__',\n",
       " '__getitem__',\n",
       " '__getstate__',\n",
       " '__gt__',\n",
       " '__hash__',\n",
       " '__iadd__',\n",
       " '__imul__',\n",
       " '__init__',\n",
       " '__init_subclass__',\n",
       " '__iter__',\n",
       " '__le__',\n",
       " '__len__',\n",
       " '__lt__',\n",
       " '__mul__',\n",
       " '__ne__',\n",
       " '__new__',\n",
       " '__reduce__',\n",
       " '__reduce_ex__',\n",
       " '__repr__',\n",
       " '__reversed__',\n",
       " '__rmul__',\n",
       " '__setattr__',\n",
       " '__setitem__',\n",
       " '__sizeof__',\n",
       " '__str__',\n",
       " '__subclasshook__',\n",
       " 'append',\n",
       " 'clear',\n",
       " 'copy',\n",
       " 'count',\n",
       " 'extend',\n",
       " 'index',\n",
       " 'insert',\n",
       " 'pop',\n",
       " 'remove',\n",
       " 'reverse',\n",
       " 'sort']"
      ]
     },
     "execution_count": 7,
     "metadata": {},
     "output_type": "execute_result"
    }
   ],
   "source": [
    "dir(list)"
   ]
  },
  {
   "cell_type": "code",
   "execution_count": 3,
   "id": "dfaccf00-6ff5-4743-8658-8453ae83cd10",
   "metadata": {},
   "outputs": [],
   "source": [
    "s = ('hello',2,3.5,True,False)"
   ]
  },
  {
   "cell_type": "code",
   "execution_count": 4,
   "id": "ac1e1aa5-18d0-42a0-8f46-e371a3822703",
   "metadata": {},
   "outputs": [
    {
     "data": {
      "text/plain": [
       "('hello', 2, 3.5, True, False)"
      ]
     },
     "execution_count": 4,
     "metadata": {},
     "output_type": "execute_result"
    }
   ],
   "source": [
    "s"
   ]
  },
  {
   "cell_type": "code",
   "execution_count": 9,
   "id": "f357dfe1-21c0-4748-8c53-a6531190ae49",
   "metadata": {},
   "outputs": [],
   "source": [
    "l = list(s)"
   ]
  },
  {
   "cell_type": "code",
   "execution_count": 10,
   "id": "9059baf3-8532-4e70-81b5-e73afae13cd1",
   "metadata": {},
   "outputs": [],
   "source": [
    "l[1] = 'Ayaan'"
   ]
  },
  {
   "cell_type": "code",
   "execution_count": 11,
   "id": "4f41521d-65b6-44a8-a7ce-b6a9e7583bac",
   "metadata": {},
   "outputs": [
    {
     "data": {
      "text/plain": [
       "['hello', 'Ayaan', 3.5, True, False]"
      ]
     },
     "execution_count": 11,
     "metadata": {},
     "output_type": "execute_result"
    }
   ],
   "source": [
    "l"
   ]
  },
  {
   "cell_type": "code",
   "execution_count": 12,
   "id": "6672400b-2bde-450b-ab41-b333bdf01f77",
   "metadata": {},
   "outputs": [],
   "source": [
    "l[2] = 13"
   ]
  },
  {
   "cell_type": "code",
   "execution_count": 13,
   "id": "71b2d745-a015-4792-b108-cd9a0a250b88",
   "metadata": {},
   "outputs": [
    {
     "data": {
      "text/plain": [
       "['hello', 'Ayaan', 13, True, False]"
      ]
     },
     "execution_count": 13,
     "metadata": {},
     "output_type": "execute_result"
    }
   ],
   "source": [
    "l"
   ]
  },
  {
   "cell_type": "code",
   "execution_count": 15,
   "id": "b37d03d0-ef77-4fa7-bca3-26402a87e42a",
   "metadata": {},
   "outputs": [],
   "source": [
    "t = tuple(l)"
   ]
  },
  {
   "cell_type": "code",
   "execution_count": null,
   "id": "7a43b695-82c3-410c-a564-76631df28472",
   "metadata": {},
   "outputs": [],
   "source": []
  },
  {
   "cell_type": "code",
   "execution_count": 16,
   "id": "6069be5b-0d1c-47bc-901e-7e5275aeced1",
   "metadata": {},
   "outputs": [],
   "source": [
    "s,d,f,g = (1,2.3,4.5,\"Ali\")"
   ]
  },
  {
   "cell_type": "code",
   "execution_count": 18,
   "id": "5bea3054-ba9e-443c-92c3-12d35c9fd676",
   "metadata": {},
   "outputs": [
    {
     "data": {
      "text/plain": [
       "'Ali'"
      ]
     },
     "execution_count": 18,
     "metadata": {},
     "output_type": "execute_result"
    }
   ],
   "source": [
    "g"
   ]
  },
  {
   "cell_type": "code",
   "execution_count": 22,
   "id": "a8d0b931-81a9-4311-9796-4e6105b7457b",
   "metadata": {},
   "outputs": [],
   "source": [
    "s = ['hello',2,5,5,3.5,True,False]"
   ]
  },
  {
   "cell_type": "code",
   "execution_count": 29,
   "id": "299917e7-b7a8-4649-9373-d1e2a59d388a",
   "metadata": {},
   "outputs": [],
   "source": [
    "m = ['hello',2,5,3.5,'bye bye',False]"
   ]
  },
  {
   "cell_type": "code",
   "execution_count": 30,
   "id": "ff698d4d-0e55-421c-9720-bff5bfdd879c",
   "metadata": {},
   "outputs": [],
   "source": [
    "s.extend(m)"
   ]
  },
  {
   "cell_type": "code",
   "execution_count": 31,
   "id": "d155ba16-7f1e-402a-9928-96e63a051e76",
   "metadata": {},
   "outputs": [
    {
     "data": {
      "text/plain": [
       "['hello',\n",
       " 2,\n",
       " 5,\n",
       " 5,\n",
       " 3.5,\n",
       " True,\n",
       " False,\n",
       " 'h',\n",
       " 'e',\n",
       " 'l',\n",
       " 'l',\n",
       " 'o',\n",
       " 'hello',\n",
       " 2,\n",
       " 5,\n",
       " 3.5,\n",
       " 'bye bye',\n",
       " False]"
      ]
     },
     "execution_count": 31,
     "metadata": {},
     "output_type": "execute_result"
    }
   ],
   "source": [
    "s"
   ]
  },
  {
   "cell_type": "code",
   "execution_count": 32,
   "id": "4ef5acdc-c3ff-4f39-8863-6f5d5b9d0612",
   "metadata": {},
   "outputs": [],
   "source": [
    "s.insert(5,'Ayaan')"
   ]
  },
  {
   "cell_type": "code",
   "execution_count": 33,
   "id": "26516dd2-cb7c-4fbe-9a27-995d3dacc618",
   "metadata": {},
   "outputs": [
    {
     "data": {
      "text/plain": [
       "['hello',\n",
       " 2,\n",
       " 5,\n",
       " 5,\n",
       " 3.5,\n",
       " 'Ayaan',\n",
       " True,\n",
       " False,\n",
       " 'h',\n",
       " 'e',\n",
       " 'l',\n",
       " 'l',\n",
       " 'o',\n",
       " 'hello',\n",
       " 2,\n",
       " 5,\n",
       " 3.5,\n",
       " 'bye bye',\n",
       " False]"
      ]
     },
     "execution_count": 33,
     "metadata": {},
     "output_type": "execute_result"
    }
   ],
   "source": [
    "s"
   ]
  },
  {
   "cell_type": "code",
   "execution_count": 34,
   "id": "0995c002-5dfc-47ce-8d72-1ab97ad5f755",
   "metadata": {},
   "outputs": [],
   "source": [
    "s.reverse()"
   ]
  },
  {
   "cell_type": "code",
   "execution_count": 35,
   "id": "15b1e7fe-ab48-4028-b099-92d9f88d92c4",
   "metadata": {},
   "outputs": [
    {
     "data": {
      "text/plain": [
       "[False,\n",
       " 'bye bye',\n",
       " 3.5,\n",
       " 5,\n",
       " 2,\n",
       " 'hello',\n",
       " 'o',\n",
       " 'l',\n",
       " 'l',\n",
       " 'e',\n",
       " 'h',\n",
       " False,\n",
       " True,\n",
       " 'Ayaan',\n",
       " 3.5,\n",
       " 5,\n",
       " 5,\n",
       " 2,\n",
       " 'hello']"
      ]
     },
     "execution_count": 35,
     "metadata": {},
     "output_type": "execute_result"
    }
   ],
   "source": [
    "s"
   ]
  },
  {
   "cell_type": "code",
   "execution_count": 40,
   "id": "b8993cc9-eede-4da2-b620-564234eefac3",
   "metadata": {},
   "outputs": [],
   "source": [
    "m = [1,5,2,9,2,6,10]"
   ]
  },
  {
   "cell_type": "code",
   "execution_count": 41,
   "id": "f5c3b4ea-2ee4-4d5f-b0e5-220a979c8b15",
   "metadata": {},
   "outputs": [],
   "source": [
    "m.sort()"
   ]
  },
  {
   "cell_type": "code",
   "execution_count": 42,
   "id": "81b6229f-a697-41fe-ba79-4c353bd572df",
   "metadata": {},
   "outputs": [
    {
     "data": {
      "text/plain": [
       "[1, 2, 2, 5, 6, 9, 10]"
      ]
     },
     "execution_count": 42,
     "metadata": {},
     "output_type": "execute_result"
    }
   ],
   "source": [
    "m"
   ]
  },
  {
   "cell_type": "code",
   "execution_count": 43,
   "id": "558747b8-2743-4936-b1fe-a1e67c1c780d",
   "metadata": {},
   "outputs": [],
   "source": [
    "m = ['huma',39,'10/7/1985']"
   ]
  },
  {
   "cell_type": "code",
   "execution_count": 44,
   "id": "15086864-f0ef-4b27-bdb5-a4fd98c9a03e",
   "metadata": {},
   "outputs": [],
   "source": [
    "ayaan = ['Ayaan',13,'7/22/2011',m]"
   ]
  },
  {
   "cell_type": "code",
   "execution_count": 45,
   "id": "43c8999a-513e-4a27-9851-85b56c26db8f",
   "metadata": {},
   "outputs": [
    {
     "data": {
      "text/plain": [
       "['Ayaan', 13, '7/22/2011', ['huma', 39, '10/7/1985']]"
      ]
     },
     "execution_count": 45,
     "metadata": {},
     "output_type": "execute_result"
    }
   ],
   "source": [
    "ayaan"
   ]
  },
  {
   "cell_type": "code",
   "execution_count": 47,
   "id": "796be0ff-ca9e-4d08-8f7c-a1043917b722",
   "metadata": {},
   "outputs": [],
   "source": [
    "ayaan[3][1] = 44"
   ]
  },
  {
   "cell_type": "code",
   "execution_count": 48,
   "id": "ae71acb8-b89a-41a6-8f21-99895ed4f969",
   "metadata": {},
   "outputs": [
    {
     "data": {
      "text/plain": [
       "['Ayaan', 13, '7/22/2011', ['huma', 44, '10/7/1985']]"
      ]
     },
     "execution_count": 48,
     "metadata": {},
     "output_type": "execute_result"
    }
   ],
   "source": [
    "ayaan"
   ]
  },
  {
   "cell_type": "code",
   "execution_count": 51,
   "id": "7ffe1301-3cc8-40be-acdc-7966b3b62d5e",
   "metadata": {},
   "outputs": [
    {
     "data": {
      "text/plain": [
       "True"
      ]
     },
     "execution_count": 51,
     "metadata": {},
     "output_type": "execute_result"
    }
   ],
   "source": [
    "'a' in 'ayaan'"
   ]
  },
  {
   "cell_type": "code",
   "execution_count": 52,
   "id": "69ea1e79-aa10-4972-b2d8-afa2aabd8429",
   "metadata": {},
   "outputs": [
    {
     "data": {
      "text/plain": [
       "True"
      ]
     },
     "execution_count": 52,
     "metadata": {},
     "output_type": "execute_result"
    }
   ],
   "source": [
    "'b' not in 'ayaan'"
   ]
  },
  {
   "cell_type": "code",
   "execution_count": 54,
   "id": "c0ee5f20-824c-417c-97c4-ec751c4c6281",
   "metadata": {},
   "outputs": [],
   "source": [
    "m = [1,5,2,9,2,6,10]"
   ]
  },
  {
   "cell_type": "code",
   "execution_count": 56,
   "id": "6520684d-78ff-4b4e-8b83-26ea4a387bcc",
   "metadata": {},
   "outputs": [
    {
     "data": {
      "text/plain": [
       "[5, 2, 9]"
      ]
     },
     "execution_count": 56,
     "metadata": {},
     "output_type": "execute_result"
    }
   ],
   "source": [
    "m[1:4]"
   ]
  },
  {
   "cell_type": "code",
   "execution_count": null,
   "id": "a3fbe0ba-250d-4587-8b3f-f333a29a3538",
   "metadata": {},
   "outputs": [],
   "source": []
  }
 ],
 "metadata": {
  "kernelspec": {
   "display_name": "Python 3 (ipykernel)",
   "language": "python",
   "name": "python3"
  },
  "language_info": {
   "codemirror_mode": {
    "name": "ipython",
    "version": 3
   },
   "file_extension": ".py",
   "mimetype": "text/x-python",
   "name": "python",
   "nbconvert_exporter": "python",
   "pygments_lexer": "ipython3",
   "version": "3.11.7"
  }
 },
 "nbformat": 4,
 "nbformat_minor": 5
}
