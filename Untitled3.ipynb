{
 "cells": [
  {
   "cell_type": "code",
   "execution_count": 1,
   "id": "5f68d405-d3a7-4eb3-8e29-12f9af5d446e",
   "metadata": {},
   "outputs": [],
   "source": [
    "list1 = [1,2,3,4,5,6]\n",
    "list2 = [9,10,11,12,13,14]\n",
    "list3 = [15,16,17,18,19,20]\n",
    "list4 = [21,22,23,24,25,26]"
   ]
  },
  {
   "cell_type": "code",
   "execution_count": 2,
   "id": "f4c14602-1a47-4e37-b7da-4298a8f48109",
   "metadata": {},
   "outputs": [],
   "source": [
    "import numpy as np"
   ]
  },
  {
   "cell_type": "code",
   "execution_count": 3,
   "id": "b8357d3d-5ca0-43f4-bea7-dcce3edb7c85",
   "metadata": {},
   "outputs": [],
   "source": [
    "a = np.array([list1,list2,list3,list4])"
   ]
  },
  {
   "cell_type": "code",
   "execution_count": 4,
   "id": "5e0bf1e5-93a0-4811-a18b-8dbc3a886ce9",
   "metadata": {},
   "outputs": [
    {
     "data": {
      "text/plain": [
       "array([[ 1,  2,  3,  4,  5,  6],\n",
       "       [ 9, 10, 11, 12, 13, 14],\n",
       "       [15, 16, 17, 18, 19, 20],\n",
       "       [21, 22, 23, 24, 25, 26]])"
      ]
     },
     "execution_count": 4,
     "metadata": {},
     "output_type": "execute_result"
    }
   ],
   "source": [
    "a"
   ]
  },
  {
   "cell_type": "code",
   "execution_count": 28,
   "id": "49042608-61e5-4c09-a186-a319e75172ae",
   "metadata": {},
   "outputs": [
    {
     "data": {
      "text/plain": [
       "array([[11, 12, 13],\n",
       "       [17, 18, 19],\n",
       "       [23, 24, 25]])"
      ]
     },
     "execution_count": 28,
     "metadata": {},
     "output_type": "execute_result"
    }
   ],
   "source": [
    "a[:5,:]"
   ]
  },
  {
   "cell_type": "code",
   "execution_count": 20,
   "id": "12e2d5b9-682d-42dd-86da-3d633b5c3014",
   "metadata": {},
   "outputs": [
    {
     "data": {
      "text/plain": [
       "array([[0.90816707, 0.98818672, 0.88320229, 0.87222403, 0.45622134,\n",
       "        0.05983509],\n",
       "       [0.39732126, 0.16384141, 0.99627549, 0.98235516, 0.4678284 ,\n",
       "        0.52216357],\n",
       "       [0.0201879 , 0.0112346 , 0.99248757, 0.16803628, 0.45496207,\n",
       "        0.03577891]])"
      ]
     },
     "execution_count": 20,
     "metadata": {},
     "output_type": "execute_result"
    }
   ],
   "source": [
    "np.random.rand(3,6)"
   ]
  },
  {
   "cell_type": "code",
   "execution_count": 7,
   "id": "1861a266-9dfb-4cfd-99cd-2c06ec9630cb",
   "metadata": {},
   "outputs": [
    {
     "data": {
      "text/plain": [
       "array([2, 2])"
      ]
     },
     "execution_count": 7,
     "metadata": {},
     "output_type": "execute_result"
    }
   ],
   "source": [
    "np.random.randint((5,8))"
   ]
  },
  {
   "cell_type": "code",
   "execution_count": 8,
   "id": "f34eeebd-66bc-4ea6-be40-81a28a3217c4",
   "metadata": {},
   "outputs": [
    {
     "data": {
      "text/plain": [
       "array([[1., 1., 1., 1., 1., 1., 1., 1., 1.],\n",
       "       [1., 1., 1., 1., 1., 1., 1., 1., 1.],\n",
       "       [1., 1., 1., 1., 1., 1., 1., 1., 1.],\n",
       "       [1., 1., 1., 1., 1., 1., 1., 1., 1.],\n",
       "       [1., 1., 1., 1., 1., 1., 1., 1., 1.],\n",
       "       [1., 1., 1., 1., 1., 1., 1., 1., 1.],\n",
       "       [1., 1., 1., 1., 1., 1., 1., 1., 1.],\n",
       "       [1., 1., 1., 1., 1., 1., 1., 1., 1.],\n",
       "       [1., 1., 1., 1., 1., 1., 1., 1., 1.],\n",
       "       [1., 1., 1., 1., 1., 1., 1., 1., 1.]])"
      ]
     },
     "execution_count": 8,
     "metadata": {},
     "output_type": "execute_result"
    }
   ],
   "source": [
    "np.ones((10,9))"
   ]
  },
  {
   "cell_type": "code",
   "execution_count": 9,
   "id": "be8228a7-8667-4afc-8799-2a7548656f44",
   "metadata": {},
   "outputs": [
    {
     "data": {
      "text/plain": [
       "array([[0., 0., 0., 0., 0., 0., 0., 0., 0.],\n",
       "       [0., 0., 0., 0., 0., 0., 0., 0., 0.],\n",
       "       [0., 0., 0., 0., 0., 0., 0., 0., 0.],\n",
       "       [0., 0., 0., 0., 0., 0., 0., 0., 0.],\n",
       "       [0., 0., 0., 0., 0., 0., 0., 0., 0.],\n",
       "       [0., 0., 0., 0., 0., 0., 0., 0., 0.],\n",
       "       [0., 0., 0., 0., 0., 0., 0., 0., 0.],\n",
       "       [0., 0., 0., 0., 0., 0., 0., 0., 0.],\n",
       "       [0., 0., 0., 0., 0., 0., 0., 0., 0.],\n",
       "       [0., 0., 0., 0., 0., 0., 0., 0., 0.]])"
      ]
     },
     "execution_count": 9,
     "metadata": {},
     "output_type": "execute_result"
    }
   ],
   "source": [
    "np.zeros((10,9))"
   ]
  },
  {
   "cell_type": "code",
   "execution_count": 10,
   "id": "befc51dc-5b68-4f54-9864-644bc9ed2d5d",
   "metadata": {},
   "outputs": [
    {
     "data": {
      "text/plain": [
       "array([[ 1,  3,  5,  7,  9],\n",
       "       [11, 13, 15, 17, 19]])"
      ]
     },
     "execution_count": 10,
     "metadata": {},
     "output_type": "execute_result"
    }
   ],
   "source": [
    "np.arange(1,20,2).reshape(2,5)"
   ]
  },
  {
   "cell_type": "code",
   "execution_count": null,
   "id": "d3893b58-9137-48bd-a52d-f441abeb8ef2",
   "metadata": {},
   "outputs": [],
   "source": []
  }
 ],
 "metadata": {
  "kernelspec": {
   "display_name": "Python 3 (ipykernel)",
   "language": "python",
   "name": "python3"
  },
  "language_info": {
   "codemirror_mode": {
    "name": "ipython",
    "version": 3
   },
   "file_extension": ".py",
   "mimetype": "text/x-python",
   "name": "python",
   "nbconvert_exporter": "python",
   "pygments_lexer": "ipython3",
   "version": "3.11.7"
  }
 },
 "nbformat": 4,
 "nbformat_minor": 5
}
