{
 "cells": [
  {
   "cell_type": "code",
   "execution_count": 6,
   "id": "b550bb3d-513a-49b8-93d7-27dbf34a2966",
   "metadata": {},
   "outputs": [],
   "source": [
    "lts = ['a','b','c','d','e','f','g','h','i','k']\n",
    "nums = [1,2,3,4,5,6,7,8,9,10,11,12,13,14,15,16]\n",
    "\n"
   ]
  },
  {
   "cell_type": "code",
   "execution_count": 8,
   "id": "547dcd55-1b6b-4338-9d09-d3b785f5fd88",
   "metadata": {},
   "outputs": [
    {
     "name": "stdout",
     "output_type": "stream",
     "text": [
      "Number : 1,   Alphabets :a\n",
      "Number : 2,   Alphabets :b\n",
      "Number : 3,   Alphabets :c\n",
      "Number : 4,   Alphabets :d\n",
      "Number : 5,   Alphabets :e\n",
      "Number : 6,   Alphabets :f\n",
      "Number : 7,   Alphabets :g\n",
      "Number : 8,   Alphabets :h\n",
      "Number : 9,   Alphabets :i\n",
      "Number : 10,   Alphabets :k\n"
     ]
    }
   ],
   "source": [
    "for lt,num in zip(lts,nums):\n",
    "    print(f'Number : {num},   Alphabets :{lt}')"
   ]
  },
  {
   "cell_type": "code",
   "execution_count": null,
   "id": "b160bbd9-70e8-41f2-8f40-92381d14d758",
   "metadata": {},
   "outputs": [],
   "source": []
  }
 ],
 "metadata": {
  "kernelspec": {
   "display_name": "Python 3 (ipykernel)",
   "language": "python",
   "name": "python3"
  },
  "language_info": {
   "codemirror_mode": {
    "name": "ipython",
    "version": 3
   },
   "file_extension": ".py",
   "mimetype": "text/x-python",
   "name": "python",
   "nbconvert_exporter": "python",
   "pygments_lexer": "ipython3",
   "version": "3.11.7"
  }
 },
 "nbformat": 4,
 "nbformat_minor": 5
}
