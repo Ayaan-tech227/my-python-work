{
 "cells": [
  {
   "cell_type": "code",
   "execution_count": 7,
   "id": "24ed81ec-8eb7-4de0-829f-f113d169b2f8",
   "metadata": {},
   "outputs": [
    {
     "data": {
      "text/plain": [
       "['__add__',\n",
       " '__class__',\n",
       " '__class_getitem__',\n",
       " '__contains__',\n",
       " '__delattr__',\n",
       " '__delitem__',\n",
       " '__dir__',\n",
       " '__doc__',\n",
       " '__eq__',\n",
       " '__format__',\n",
       " '__ge__',\n",
       " '__getattribute__',\n",
       " '__getitem__',\n",
       " '__getstate__',\n",
       " '__gt__',\n",
       " '__hash__',\n",
       " '__iadd__',\n",
       " '__imul__',\n",
       " '__init__',\n",
       " '__init_subclass__',\n",
       " '__iter__',\n",
       " '__le__',\n",
       " '__len__',\n",
       " '__lt__',\n",
       " '__mul__',\n",
       " '__ne__',\n",
       " '__new__',\n",
       " '__reduce__',\n",
       " '__reduce_ex__',\n",
       " '__repr__',\n",
       " '__reversed__',\n",
       " '__rmul__',\n",
       " '__setattr__',\n",
       " '__setitem__',\n",
       " '__sizeof__',\n",
       " '__str__',\n",
       " '__subclasshook__',\n",
       " 'append',\n",
       " 'clear',\n",
       " 'copy',\n",
       " 'count',\n",
       " 'extend',\n",
       " 'index',\n",
       " 'insert',\n",
       " 'pop',\n",
       " 'remove',\n",
       " 'reverse',\n",
       " 'sort']"
      ]
     },
     "execution_count": 7,
     "metadata": {},
     "output_type": "execute_result"
    }
   ],
   "source": [
    "dir(list)"
   ]
  },
  {
   "cell_type": "code",
   "execution_count": 3,
   "id": "dfaccf00-6ff5-4743-8658-8453ae83cd10",
   "metadata": {},
   "outputs": [],
   "source": [
    "s = ('hello',2,3.5,True,False)"
   ]
  },
  {
   "cell_type": "code",
   "execution_count": 4,
   "id": "ac1e1aa5-18d0-42a0-8f46-e371a3822703",
   "metadata": {},
   "outputs": [
    {
     "data": {
      "text/plain": [
       "('hello', 2, 3.5, True, False)"
      ]
     },
     "execution_count": 4,
     "metadata": {},
     "output_type": "execute_result"
    }
   ],
   "source": [
    "s"
   ]
  },
  {
   "cell_type": "code",
   "execution_count": 9,
   "id": "f357dfe1-21c0-4748-8c53-a6531190ae49",
   "metadata": {},
   "outputs": [],
   "source": [
    "l = list(s)"
   ]
  },
  {
   "cell_type": "code",
   "execution_count": 10,
   "id": "9059baf3-8532-4e70-81b5-e73afae13cd1",
   "metadata": {},
   "outputs": [],
   "source": [
    "l[1] = 'Ayaan'"
   ]
  },
  {
   "cell_type": "code",
   "execution_count": 11,
   "id": "4f41521d-65b6-44a8-a7ce-b6a9e7583bac",
   "metadata": {},
   "outputs": [
    {
     "data": {
      "text/plain": [
       "['hello', 'Ayaan', 3.5, True, False]"
      ]
     },
     "execution_count": 11,
     "metadata": {},
     "output_type": "execute_result"
    }
   ],
   "source": [
    "l"
   ]
  },
  {
   "cell_type": "code",
   "execution_count": 12,
   "id": "6672400b-2bde-450b-ab41-b333bdf01f77",
   "metadata": {},
   "outputs": [],
   "source": [
    "l[2] = 13"
   ]
  },
  {
   "cell_type": "code",
   "execution_count": 13,
   "id": "71b2d745-a015-4792-b108-cd9a0a250b88",
   "metadata": {},
   "outputs": [
    {
     "data": {
      "text/plain": [
       "['hello', 'Ayaan', 13, True, False]"
      ]
     },
     "execution_count": 13,
     "metadata": {},
     "output_type": "execute_result"
    }
   ],
   "source": [
    "l"
   ]
  },
  {
   "cell_type": "code",
   "execution_count": 15,
   "id": "b37d03d0-ef77-4fa7-bca3-26402a87e42a",
   "metadata": {},
   "outputs": [],
   "source": [
    "t = tuple(l)"
   ]
  },
  {
   "cell_type": "code",
   "execution_count": null,
   "id": "7a43b695-82c3-410c-a564-76631df28472",
   "metadata": {},
   "outputs": [],
   "source": []
  },
  {
   "cell_type": "code",
   "execution_count": 16,
   "id": "6069be5b-0d1c-47bc-901e-7e5275aeced1",
   "metadata": {},
   "outputs": [],
   "source": [
    "s,d,f,g = (1,2.3,4.5,\"Ali\")"
   ]
  },
  {
   "cell_type": "code",
   "execution_count": 18,
   "id": "5bea3054-ba9e-443c-92c3-12d35c9fd676",
   "metadata": {},
   "outputs": [
    {
     "data": {
      "text/plain": [
       "'Ali'"
      ]
     },
     "execution_count": 18,
     "metadata": {},
     "output_type": "execute_result"
    }
   ],
   "source": [
    "g"
   ]
  },
  {
   "cell_type": "code",
   "execution_count": 22,
   "id": "a8d0b931-81a9-4311-9796-4e6105b7457b",
   "metadata": {},
   "outputs": [],
   "source": [
    "s = ['hello',2,5,5,3.5,True,False]"
   ]
  },
  {
   "cell_type": "code",
   "execution_count": 27,
   "id": "299917e7-b7a8-4649-9373-d1e2a59d388a",
   "metadata": {},
   "outputs": [],
   "source": []
  },
  {
   "cell_type": "code",
   "execution_count": null,
   "id": "ff698d4d-0e55-421c-9720-bff5bfdd879c",
   "metadata": {},
   "outputs": [],
   "source": []
  }
 ],
 "metadata": {
  "kernelspec": {
   "display_name": "Python 3 (ipykernel)",
   "language": "python",
   "name": "python3"
  },
  "language_info": {
   "codemirror_mode": {
    "name": "ipython",
    "version": 3
   },
   "file_extension": ".py",
   "mimetype": "text/x-python",
   "name": "python",
   "nbconvert_exporter": "python",
   "pygments_lexer": "ipython3",
   "version": "3.11.7"
  }
 },
 "nbformat": 4,
 "nbformat_minor": 5
}
