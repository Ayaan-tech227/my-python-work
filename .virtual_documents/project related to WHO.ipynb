import pandas as pd
import matplotlib.pyplot as plt


who = pd.read_csv("who.csv")
who


who.info()


who.dtypes


who.tail()


who["Date_reported"] = pd.to_datetime(who["Date_reported"])


who.dtypes


who[["Date_reported","Cumulative_cases"]]


who["Country"].unique()


who["Country"] == "Italy"


who[who["Country"] == "Italy"]


 bol = who["Country"] == "Italy"


bol


italy = who[bol]
italy


dir(plt)


plt.plot(italy["Date_reported"],italy["Cumulative_cases"])


plt.plot(italy["Cumulative_cases"],italy["Date_reported"])


plt.plot(italy["Date_reported"],italy["Cumulative_cases"])
plt.show()


plt.plot(italy["Date_reported"],italy["Cumulative_cases"])
plt.xlabel("Date_reported")
plt.ylabel("Cumulative_cases")
plt.title("Italy : Covide cummulative cases")      ### esy graphs jiski growth ak dam increase hojy logrithemic graph bnt h
plt.show()


def plot_cases(country_name):
    bol = who["Country"] == country_name
    df = who[bol]
    plt.plot(df["Date_reported"],df["Cumulative_cases"])
    plt.xlabel("Date_reported")
    plt.ylabel("Cumulative_cases")
    plt.title("{} : Covide cummulative cases".format(country_name))     
    plt.show()
    


plot_cases("India")  ## exponential grapgh esa graph jo ahisa ahista bhary or phir ak dam sy bar jay


plot_cases("China")


plot_cases("Grenada")


plot_cases("Comoros")






