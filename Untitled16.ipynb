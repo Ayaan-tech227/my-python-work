{
 "cells": [
  {
   "cell_type": "code",
   "execution_count": null,
   "id": "066d98df-c896-4290-b771-0e3fb7dfe6f4",
   "metadata": {},
   "outputs": [],
   "source": [
    "i = print(input(':-'))\n",
    "i\n",
    "\n",
    "if i.lower == 'what is your name':\n",
    "    print('your name is worlds beautifull girl aiza')\n",
    "else :\n",
    "    print('sorry i cannot answer you') "
   ]
  },
  {
   "cell_type": "code",
   "execution_count": null,
   "id": "9cc39dfe-2d42-4b90-8e36-783ab4c260a6",
   "metadata": {},
   "outputs": [],
   "source": []
  },
  {
   "cell_type": "code",
   "execution_count": null,
   "id": "d1745e1a-71f2-4e2e-a6e6-1ce515215068",
   "metadata": {},
   "outputs": [],
   "source": []
  }
 ],
 "metadata": {
  "kernelspec": {
   "display_name": "Python 3 (ipykernel)",
   "language": "python",
   "name": "python3"
  },
  "language_info": {
   "codemirror_mode": {
    "name": "ipython",
    "version": 3
   },
   "file_extension": ".py",
   "mimetype": "text/x-python",
   "name": "python",
   "nbconvert_exporter": "python",
   "pygments_lexer": "ipython3",
   "version": "3.11.7"
  }
 },
 "nbformat": 4,
 "nbformat_minor": 5
}
