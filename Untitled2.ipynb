{
 "cells": [
  {
   "cell_type": "code",
   "execution_count": 12,
   "id": "b5168068-9491-45f4-8ef0-b2a1ae9507b0",
   "metadata": {},
   "outputs": [],
   "source": [
    "import pandas as pd \n",
    "import matplotlib.pyplot as plt"
   ]
  },
  {
   "cell_type": "code",
   "execution_count": 13,
   "id": "42a5b1a5-9157-4ee4-9f22-1a6a830a0652",
   "metadata": {},
   "outputs": [],
   "source": [
    "who = pd.read_csv(\"who.csv\")"
   ]
  },
  {
   "cell_type": "code",
   "execution_count": 14,
   "id": "bc8c15c7-6ab6-4d7b-b917-45324101f3d5",
   "metadata": {},
   "outputs": [
    {
     "data": {
      "text/html": [
       "<div>\n",
       "<style scoped>\n",
       "    .dataframe tbody tr th:only-of-type {\n",
       "        vertical-align: middle;\n",
       "    }\n",
       "\n",
       "    .dataframe tbody tr th {\n",
       "        vertical-align: top;\n",
       "    }\n",
       "\n",
       "    .dataframe thead th {\n",
       "        text-align: right;\n",
       "    }\n",
       "</style>\n",
       "<table border=\"1\" class=\"dataframe\">\n",
       "  <thead>\n",
       "    <tr style=\"text-align: right;\">\n",
       "      <th></th>\n",
       "      <th>Date_reported</th>\n",
       "      <th>Country</th>\n",
       "      <th>New_cases</th>\n",
       "      <th>Cumulative_cases</th>\n",
       "      <th>New_deaths</th>\n",
       "      <th>Cumulative_deaths</th>\n",
       "    </tr>\n",
       "  </thead>\n",
       "  <tbody>\n",
       "    <tr>\n",
       "      <th>0</th>\n",
       "      <td>2020-01-04</td>\n",
       "      <td>China</td>\n",
       "      <td>1</td>\n",
       "      <td>1</td>\n",
       "      <td>0</td>\n",
       "      <td>0</td>\n",
       "    </tr>\n",
       "    <tr>\n",
       "      <th>1</th>\n",
       "      <td>2020-01-05</td>\n",
       "      <td>China</td>\n",
       "      <td>0</td>\n",
       "      <td>1</td>\n",
       "      <td>0</td>\n",
       "      <td>0</td>\n",
       "    </tr>\n",
       "    <tr>\n",
       "      <th>2</th>\n",
       "      <td>2020-01-06</td>\n",
       "      <td>China</td>\n",
       "      <td>3</td>\n",
       "      <td>4</td>\n",
       "      <td>0</td>\n",
       "      <td>0</td>\n",
       "    </tr>\n",
       "    <tr>\n",
       "      <th>3</th>\n",
       "      <td>2020-01-07</td>\n",
       "      <td>China</td>\n",
       "      <td>0</td>\n",
       "      <td>4</td>\n",
       "      <td>0</td>\n",
       "      <td>0</td>\n",
       "    </tr>\n",
       "    <tr>\n",
       "      <th>4</th>\n",
       "      <td>2020-01-08</td>\n",
       "      <td>China</td>\n",
       "      <td>0</td>\n",
       "      <td>4</td>\n",
       "      <td>0</td>\n",
       "      <td>0</td>\n",
       "    </tr>\n",
       "    <tr>\n",
       "      <th>...</th>\n",
       "      <td>...</td>\n",
       "      <td>...</td>\n",
       "      <td>...</td>\n",
       "      <td>...</td>\n",
       "      <td>...</td>\n",
       "      <td>...</td>\n",
       "    </tr>\n",
       "    <tr>\n",
       "      <th>31871</th>\n",
       "      <td>2020-07-31</td>\n",
       "      <td>Panama</td>\n",
       "      <td>1046</td>\n",
       "      <td>63269</td>\n",
       "      <td>25</td>\n",
       "      <td>1374</td>\n",
       "    </tr>\n",
       "    <tr>\n",
       "      <th>31872</th>\n",
       "      <td>2020-07-31</td>\n",
       "      <td>Timor-Leste</td>\n",
       "      <td>0</td>\n",
       "      <td>24</td>\n",
       "      <td>0</td>\n",
       "      <td>0</td>\n",
       "    </tr>\n",
       "    <tr>\n",
       "      <th>31873</th>\n",
       "      <td>2020-07-31</td>\n",
       "      <td>Guatemala</td>\n",
       "      <td>1221</td>\n",
       "      <td>48826</td>\n",
       "      <td>32</td>\n",
       "      <td>1867</td>\n",
       "    </tr>\n",
       "    <tr>\n",
       "      <th>31874</th>\n",
       "      <td>2020-07-31</td>\n",
       "      <td>Saint Vincent and the Grenadines</td>\n",
       "      <td>0</td>\n",
       "      <td>52</td>\n",
       "      <td>0</td>\n",
       "      <td>0</td>\n",
       "    </tr>\n",
       "    <tr>\n",
       "      <th>31875</th>\n",
       "      <td>2020-07-31</td>\n",
       "      <td>Democratic Republic of the Congo</td>\n",
       "      <td>79</td>\n",
       "      <td>9009</td>\n",
       "      <td>2</td>\n",
       "      <td>214</td>\n",
       "    </tr>\n",
       "  </tbody>\n",
       "</table>\n",
       "<p>31876 rows × 6 columns</p>\n",
       "</div>"
      ],
      "text/plain": [
       "      Date_reported                           Country  New_cases  \\\n",
       "0        2020-01-04                             China          1   \n",
       "1        2020-01-05                             China          0   \n",
       "2        2020-01-06                             China          3   \n",
       "3        2020-01-07                             China          0   \n",
       "4        2020-01-08                             China          0   \n",
       "...             ...                               ...        ...   \n",
       "31871    2020-07-31                            Panama       1046   \n",
       "31872    2020-07-31                       Timor-Leste          0   \n",
       "31873    2020-07-31                         Guatemala       1221   \n",
       "31874    2020-07-31  Saint Vincent and the Grenadines          0   \n",
       "31875    2020-07-31  Democratic Republic of the Congo         79   \n",
       "\n",
       "       Cumulative_cases  New_deaths  Cumulative_deaths  \n",
       "0                     1           0                  0  \n",
       "1                     1           0                  0  \n",
       "2                     4           0                  0  \n",
       "3                     4           0                  0  \n",
       "4                     4           0                  0  \n",
       "...                 ...         ...                ...  \n",
       "31871             63269          25               1374  \n",
       "31872                24           0                  0  \n",
       "31873             48826          32               1867  \n",
       "31874                52           0                  0  \n",
       "31875              9009           2                214  \n",
       "\n",
       "[31876 rows x 6 columns]"
      ]
     },
     "execution_count": 14,
     "metadata": {},
     "output_type": "execute_result"
    }
   ],
   "source": [
    "who"
   ]
  },
  {
   "cell_type": "code",
   "execution_count": 15,
   "id": "6510b813-cd8f-43a7-ad50-aad6af0faa06",
   "metadata": {},
   "outputs": [],
   "source": [
    "who[\"Date_reported\"] = pd.to_datetime(who[\"Date_reported\"])"
   ]
  },
  {
   "cell_type": "code",
   "execution_count": 16,
   "id": "1c5708b8-f871-495a-bd1b-65e9ff01fe13",
   "metadata": {},
   "outputs": [
    {
     "data": {
      "text/plain": [
       "Date_reported        datetime64[ns]\n",
       "Country                      object\n",
       "New_cases                     int64\n",
       "Cumulative_cases              int64\n",
       "New_deaths                    int64\n",
       "Cumulative_deaths             int64\n",
       "dtype: object"
      ]
     },
     "execution_count": 16,
     "metadata": {},
     "output_type": "execute_result"
    }
   ],
   "source": [
    "who.dtypes"
   ]
  },
  {
   "cell_type": "code",
   "execution_count": 17,
   "id": "c7fa0927-5f61-4da3-a7f7-8298f253a6a0",
   "metadata": {},
   "outputs": [],
   "source": [
    "bol = who[\"Country\"] == \"Iraq\"\n",
    "iraq = who[bol]"
   ]
  },
  {
   "cell_type": "code",
   "execution_count": 18,
   "id": "2d42fb4a-8723-45e4-a93d-561c62fde3a7",
   "metadata": {},
   "outputs": [],
   "source": [
    "bol = who[\"Country\"] == \"Norway\"\n",
    "norway = who[bol]"
   ]
  },
  {
   "cell_type": "code",
   "execution_count": 19,
   "id": "691bb8b7-603b-43aa-95ae-fa9e346a2ded",
   "metadata": {},
   "outputs": [
    {
     "data": {
      "image/png": "[encoded data removed]",
      "text/plain": [
       "<Figure size 640x480 with 1 Axes>"
      ]
     },
     "metadata": {},
     "output_type": "display_data"
    }
   ],
   "source": [
    "plt.plot(iraq[\"Date_reported\"],iraq[\"Cumulative_cases\"],label = \"Iraq\")\n",
    "plt.plot(norway[\"Date_reported\"],norway[\"Cumulative_cases\"],label = \"Norway\")\n",
    "plt.xlabel(\"Dates\")\n",
    "plt.ylabel(\"Number Of Cases\")\n",
    "plt.title(\"GRAPH OF : Corona Cases At Different Dates\")\n",
    "plt.legend()\n",
    "plt.show()"
   ]
  },
  {
   "cell_type": "code",
   "execution_count": null,
   "id": "2fe76948-54cb-4dfc-b205-ef4b7b5d6c4c",
   "metadata": {},
   "outputs": [],
   "source": []
  },
  {
   "cell_type": "code",
   "execution_count": null,
   "id": "c55cab85-4016-45a1-9477-d20c93f1173b",
   "metadata": {},
   "outputs": [],
   "source": []
  }
 ],
 "metadata": {
  "kernelspec": {
   "display_name": "Python 3 (ipykernel)",
   "language": "python",
   "name": "python3"
  },
  "language_info": {
   "codemirror_mode": {
    "name": "ipython",
    "version": 3
   },
   "file_extension": ".py",
   "mimetype": "text/x-python",
   "name": "python",
   "nbconvert_exporter": "python",
   "pygments_lexer": "ipython3",
   "version": "3.11.7"
  }
 },
 "nbformat": 4,
 "nbformat_minor": 5
}
