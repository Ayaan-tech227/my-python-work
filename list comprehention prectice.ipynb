{
 "cells": [
  {
   "cell_type": "code",
   "execution_count": 5,
   "id": "8bfbab3c-c741-4ce9-97a9-f0c463e85e47",
   "metadata": {},
   "outputs": [],
   "source": [
    "fruits = [\"apple\", \"banana\", \"cherry\", \"kiwi\", \"mango\"]\n",
    "\n",
    "n = [m for m in fruits if \"e\" in m]"
   ]
  },
  {
   "cell_type": "code",
   "execution_count": 6,
   "id": "7ed4f8b2-b227-455e-b1a2-d99ec746ae44",
   "metadata": {},
   "outputs": [
    {
     "data": {
      "text/plain": [
       "['apple', 'cherry']"
      ]
     },
     "execution_count": 6,
     "metadata": {},
     "output_type": "execute_result"
    }
   ],
   "source": [
    "n"
   ]
  },
  {
   "cell_type": "code",
   "execution_count": 9,
   "id": "17fcf477-ef67-43aa-a00e-6c97bd87f79f",
   "metadata": {},
   "outputs": [
    {
     "name": "stdout",
     "output_type": "stream",
     "text": [
      "apple\n",
      "cherry\n"
     ]
    }
   ],
   "source": [
    "for i in fruits:\n",
    "    if 'e' in i:\n",
    "        print(i)"
   ]
  },
  {
   "cell_type": "code",
   "execution_count": 10,
   "id": "3ffb7c6f-bf4a-41d9-bd3d-e6fe4023a789",
   "metadata": {},
   "outputs": [],
   "source": [
    "types = ['string','float','inteeger']"
   ]
  },
  {
   "cell_type": "code",
   "execution_count": 11,
   "id": "e7d92aee-e81c-4001-9bdc-d02bcc3bddbb",
   "metadata": {},
   "outputs": [
    {
     "name": "stdout",
     "output_type": "stream",
     "text": [
      "string\n",
      "float\n",
      "inteeger\n"
     ]
    }
   ],
   "source": [
    "for i in types:\n",
    "    print(i)"
   ]
  },
  {
   "cell_type": "code",
   "execution_count": 13,
   "id": "75b19d65-e567-447a-92da-0715bb979191",
   "metadata": {},
   "outputs": [],
   "source": [
    "new_types = [t for t in types]\n"
   ]
  },
  {
   "cell_type": "code",
   "execution_count": 14,
   "id": "87f6c1d2-1ddb-4d05-ba9a-8e5c84a2feae",
   "metadata": {},
   "outputs": [
    {
     "data": {
      "text/plain": [
       "['string', 'float', 'inteeger']"
      ]
     },
     "execution_count": 14,
     "metadata": {},
     "output_type": "execute_result"
    }
   ],
   "source": [
    "new_types"
   ]
  },
  {
   "cell_type": "code",
   "execution_count": null,
   "id": "b45b8ec4-3474-4a9e-8ab3-d0840775c80f",
   "metadata": {},
   "outputs": [],
   "source": []
  }
 ],
 "metadata": {
  "kernelspec": {
   "display_name": "Python 3 (ipykernel)",
   "language": "python",
   "name": "python3"
  },
  "language_info": {
   "codemirror_mode": {
    "name": "ipython",
    "version": 3
   },
   "file_extension": ".py",
   "mimetype": "text/x-python",
   "name": "python",
   "nbconvert_exporter": "python",
   "pygments_lexer": "ipython3",
   "version": "3.11.7"
  }
 },
 "nbformat": 4,
 "nbformat_minor": 5
}
