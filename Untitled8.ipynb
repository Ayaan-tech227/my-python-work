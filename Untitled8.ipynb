{
 "cells": [
  {
   "cell_type": "code",
   "execution_count": 1,
   "id": "814a8dce-c5bb-4b06-a2a3-228cba003bc3",
   "metadata": {},
   "outputs": [
    {
     "name": "stdout",
     "output_type": "stream",
     "text": [
      "True\n"
     ]
    }
   ],
   "source": [
    "text = \"Hello, world! This is a test string.\"\n",
    "result = text.startswith(\"Hello\")\n",
    "print(result)  \n"
   ]
  },
  {
   "cell_type": "code",
   "execution_count": 3,
   "id": "3b77747e-b0d3-490d-b247-0624ce55f027",
   "metadata": {},
   "outputs": [
    {
     "name": "stdout",
     "output_type": "stream",
     "text": [
      "True\n"
     ]
    }
   ],
   "source": [
    "text = \"Hello, world! This is a test string.\"\n",
    "result = text.startswith(\"Hello\")\n",
    "print(result) "
   ]
  },
  {
   "cell_type": "code",
   "execution_count": 6,
   "id": "7ecdf87e-f532-4be7-96a8-73d82351bdc0",
   "metadata": {},
   "outputs": [
    {
     "name": "stdout",
     "output_type": "stream",
     "text": [
      "3\n"
     ]
    }
   ],
   "source": [
    "text = \"Hello, world! This is a test string.\"\n",
    "i = text.count(\"i\")\n",
    "print(i) \n"
   ]
  },
  {
   "cell_type": "code",
   "execution_count": null,
   "id": "46b704b1-34ca-4084-8b42-fd27cdba7a0b",
   "metadata": {},
   "outputs": [],
   "source": [
    "text = \"Hello, WORLD! This is a Test String.\"\n",
    "lowercase_text = text.lower()\n",
    "print(lowercase_text)\n"
   ]
  },
  {
   "cell_type": "code",
   "execution_count": 8,
   "id": "6c2e9762-77bf-490c-90a2-f184e879a746",
   "metadata": {},
   "outputs": [
    {
     "name": "stdout",
     "output_type": "stream",
     "text": [
      "HELLO, WORLD!\n"
     ]
    }
   ],
   "source": [
    "text = \"Hello, world!\"\n",
    "text = text.upper()\n",
    "\n",
    "print(text)"
   ]
  },
  {
   "cell_type": "code",
   "execution_count": 10,
   "id": "728ec862-bee2-487e-9697-ec841eed07fd",
   "metadata": {},
   "outputs": [
    {
     "name": "stdout",
     "output_type": "stream",
     "text": [
      "Hello World\n"
     ]
    }
   ],
   "source": [
    "text = \"hello world\"\n",
    "text = text.title()\n",
    "print(text)  "
   ]
  },
  {
   "cell_type": "code",
   "execution_count": 13,
   "id": "5106407b-647a-43b8-a030-13139f0a00ed",
   "metadata": {},
   "outputs": [
    {
     "name": "stdout",
     "output_type": "stream",
     "text": [
      "8\n"
     ]
    }
   ],
   "source": [
    "text = 'possessive'\n",
    "s = text.rfind(\"s\")\n",
    "\n",
    "print(s)  \n"
   ]
  },
  {
   "cell_type": "code",
   "execution_count": null,
   "id": "e045cadc-3781-4b03-9ced-a2c0543445e4",
   "metadata": {},
   "outputs": [],
   "source": [
    "text = \"Hello, world!\"\n",
    "first_o_index = text.index(\"o\")\n",
    "\n",
    "print(first_o_index)\n"
   ]
  },
  {
   "cell_type": "code",
   "execution_count": 14,
   "id": "c5313be7-0558-4cc8-ad9e-e5d12b518213",
   "metadata": {},
   "outputs": [
    {
     "name": "stdout",
     "output_type": "stream",
     "text": [
      "Hello, world!\n",
      "Hello, world!   \n",
      "   Hello, world!\n"
     ]
    }
   ],
   "source": [
    "text = \"   Hello, world!   \"\n",
    "stripped_text = text.strip()\n",
    "print(stripped_text) \n",
    "\n",
    "lstripped_text = text.lstrip()\n",
    "print(lstripped_text)\n",
    "\n",
    "rstripped_text = text.rstrip()\n",
    "print(rstripped_text)\n"
   ]
  },
  {
   "cell_type": "code",
   "execution_count": null,
   "id": "9140a810-663d-4b2a-8219-b1949c2836c1",
   "metadata": {},
   "outputs": [],
   "source": []
  }
 ],
 "metadata": {
  "kernelspec": {
   "display_name": "Python 3 (ipykernel)",
   "language": "python",
   "name": "python3"
  },
  "language_info": {
   "codemirror_mode": {
    "name": "ipython",
    "version": 3
   },
   "file_extension": ".py",
   "mimetype": "text/x-python",
   "name": "python",
   "nbconvert_exporter": "python",
   "pygments_lexer": "ipython3",
   "version": "3.11.7"
  }
 },
 "nbformat": 4,
 "nbformat_minor": 5
}
