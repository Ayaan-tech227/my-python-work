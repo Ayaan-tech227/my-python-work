{
 "cells": [
  {
   "cell_type": "code",
   "execution_count": 1,
   "id": "05fbd4ef-d61b-4b2a-a3d9-583513c7ea24",
   "metadata": {},
   "outputs": [
    {
     "name": "stdout",
     "output_type": "stream",
     "text": [
      "[1, 2, 3, 4, 5, 6, 7, 8, 9]\n"
     ]
    }
   ],
   "source": [
    "matrix = [[1, 2, 3], [4, 5, 6], [7, 8, 9]]\n",
    "flat_list = []\n",
    "for row in matrix:\n",
    "    for num in row:\n",
    "        flat_list.append(num)\n",
    "print(flat_list)"
   ]
  },
  {
   "cell_type": "code",
   "execution_count": 2,
   "id": "34248dbc-bc32-4417-b5c4-1d6b95dd2666",
   "metadata": {},
   "outputs": [],
   "source": [
    "l = []"
   ]
  },
  {
   "cell_type": "code",
   "execution_count": 3,
   "id": "82301f7a-6435-455a-ac13-10f579ce0bcd",
   "metadata": {},
   "outputs": [
    {
     "name": "stdout",
     "output_type": "stream",
     "text": [
      "{0: 0, 1: 1, 2: 4, 3: 9, 4: 16}\n"
     ]
    }
   ],
   "source": [
    "numbers = range(5)\n",
    "squared_dict = {}\n",
    "for n in numbers:\n",
    "    squared_dict[n] = n**2\n",
    "print(squared_dict)\n"
   ]
  },
  {
   "cell_type": "code",
   "execution_count": 4,
   "id": "506f7af8-efba-498b-9fea-831eaf64e0e2",
   "metadata": {},
   "outputs": [],
   "source": [
    "squared_dict = {}"
   ]
  },
  {
   "cell_type": "code",
   "execution_count": 5,
   "id": "055badf6-695b-4ad1-a392-ca4951cba77a",
   "metadata": {},
   "outputs": [
    {
     "name": "stdout",
     "output_type": "stream",
     "text": [
      "[1, 2, 3, 4, 5, 6, 7, 8, 9]\n"
     ]
    }
   ],
   "source": [
    "matrix = [[1, 2, 3], [4, 5, 6], [7, 8, 9]]\n",
    "flat_list = [num for row in matrix for num in row]\n",
    "print(flat_list)"
   ]
  },
  {
   "cell_type": "code",
   "execution_count": 6,
   "id": "a5b091db-2f64-434b-ade7-1fc06e292206",
   "metadata": {},
   "outputs": [
    {
     "name": "stdout",
     "output_type": "stream",
     "text": [
      "{0: 0, 1: 1, 2: 4, 3: 9, 4: 16}\n"
     ]
    }
   ],
   "source": [
    "numbers = range(5)\n",
    "squared_dict = {n: n**2 for n in numbers}\n",
    "print(squared_dict)\n"
   ]
  },
  {
   "cell_type": "code",
   "execution_count": 7,
   "id": "87c80453-53c2-401d-84f9-d12412e2c8d3",
   "metadata": {},
   "outputs": [
    {
     "name": "stdout",
     "output_type": "stream",
     "text": [
      "['HELLO', 'WORLD', 'PYTHON']\n"
     ]
    }
   ],
   "source": [
    "words = ['hello', 'world', 'python']\n",
    "capitalized_words = []\n",
    "for word in words:\n",
    "    capitalized_words.append(word.upper())\n",
    "print(capitalized_words)"
   ]
  },
  {
   "cell_type": "code",
   "execution_count": 8,
   "id": "240ae62e-e344-4607-b876-fde4a298339d",
   "metadata": {},
   "outputs": [],
   "source": [
    "l = [n.upper() for n in words ]"
   ]
  },
  {
   "cell_type": "code",
   "execution_count": 9,
   "id": "24a8c924-8497-4c41-9fce-0a8876ec1538",
   "metadata": {},
   "outputs": [
    {
     "data": {
      "text/plain": [
       "['HELLO', 'WORLD', 'PYTHON']"
      ]
     },
     "execution_count": 9,
     "metadata": {},
     "output_type": "execute_result"
    }
   ],
   "source": [
    "l"
   ]
  },
  {
   "cell_type": "code",
   "execution_count": 10,
   "id": "225fbf91-6560-46a5-8d8f-4f18acf20bef",
   "metadata": {},
   "outputs": [
    {
     "name": "stdout",
     "output_type": "stream",
     "text": [
      "[(0, 1), (0, 2), (1, 0), (1, 2), (2, 0), (2, 1)]\n"
     ]
    }
   ],
   "source": [
    "pairs = []\n",
    "for x in range(3):\n",
    "    for y in range(3):\n",
    "        if x != y:\n",
    "            pairs.append((x, y))\n",
    "print(pairs)"
   ]
  },
  {
   "cell_type": "code",
   "execution_count": 11,
   "id": "35796b98-955a-4467-adf4-50a4155d26bd",
   "metadata": {},
   "outputs": [
    {
     "name": "stdout",
     "output_type": "stream",
     "text": [
      "[(0, 1), (0, 2), (1, 0), (1, 2), (2, 0), (2, 1)]\n"
     ]
    }
   ],
   "source": [
    "pairs = [(x, y) for x in range(3) for y in range(3) if x != y]\n",
    "print(pairs)"
   ]
  },
  {
   "cell_type": "code",
   "execution_count": 12,
   "id": "d91dedb7-197b-47e4-9cc2-431b93fe5ba1",
   "metadata": {},
   "outputs": [
    {
     "name": "stdout",
     "output_type": "stream",
     "text": [
      "[0, 2, 4, 6, 8]\n"
     ]
    }
   ],
   "source": [
    "evens = []\n",
    "for x in range(10):\n",
    "    if x % 2 == 0:\n",
    "        evens.append(x)\n",
    "print(evens)"
   ]
  },
  {
   "cell_type": "code",
   "execution_count": 13,
   "id": "7b3dbb22-fe4e-41a1-8976-5b4f44b3ca21",
   "metadata": {},
   "outputs": [],
   "source": [
    "EVEN = [n for n in range(10) if n % 2 == 0]"
   ]
  },
  {
   "cell_type": "code",
   "execution_count": 14,
   "id": "ee131ec7-8095-4c7b-a2ed-32194b131d2e",
   "metadata": {},
   "outputs": [
    {
     "data": {
      "text/plain": [
       "[0, 2, 4, 6, 8]"
      ]
     },
     "execution_count": 14,
     "metadata": {},
     "output_type": "execute_result"
    }
   ],
   "source": [
    "EVEN"
   ]
  },
  {
   "cell_type": "code",
   "execution_count": null,
   "id": "ef261911-d2bb-4efb-bd32-21714e9be80c",
   "metadata": {},
   "outputs": [],
   "source": []
  },
  {
   "cell_type": "code",
   "execution_count": 15,
   "id": "e1e6ba01-5dfb-40bf-b063-6aa61392a883",
   "metadata": {},
   "outputs": [
    {
     "name": "stdout",
     "output_type": "stream",
     "text": [
      "[1, 4, 9, 16, 25]\n"
     ]
    }
   ],
   "source": [
    "def square(x):\n",
    "    return x * x\n",
    "\n",
    "numbers = [1, 2, 3, 4, 5]\n",
    "squared_numbers = []\n",
    "for n in numbers:\n",
    "    squared_numbers.append(square(n))\n",
    "print(squared_numbers)\n",
    "\n",
    "#------------------------------------------------\n"
   ]
  },
  {
   "cell_type": "code",
   "execution_count": 16,
   "id": "789a9066-8421-477d-8299-20be86f42b3c",
   "metadata": {},
   "outputs": [
    {
     "name": "stdout",
     "output_type": "stream",
     "text": [
      "['1', '2', '3', '4', '5', '6', '7', '8', '9']\n"
     ]
    }
   ],
   "source": [
    "strings = [\"abc123\", \"def456\", \"ghi789\"]\n",
    "digits = []\n",
    "for s in strings:\n",
    "    for char in s:\n",
    "        if char.isdigit():\n",
    "            digits.append(char)\n",
    "print(digits)"
   ]
  },
  {
   "cell_type": "code",
   "execution_count": 17,
   "id": "b67875f0-ff24-4802-92bb-0bf7f5dd9bd1",
   "metadata": {},
   "outputs": [],
   "source": [
    "s = []"
   ]
  },
  {
   "cell_type": "code",
   "execution_count": 18,
   "id": "c6d6aa75-d075-43a0-94b5-0dbbf9a910d3",
   "metadata": {},
   "outputs": [],
   "source": [
    "l = [n.isdigit() for n in strings] "
   ]
  },
  {
   "cell_type": "code",
   "execution_count": 19,
   "id": "46f9a839-e6f9-4a40-9f65-66f24be4dd4a",
   "metadata": {},
   "outputs": [
    {
     "data": {
      "text/plain": [
       "[False, False, False]"
      ]
     },
     "execution_count": 19,
     "metadata": {},
     "output_type": "execute_result"
    }
   ],
   "source": [
    "l"
   ]
  },
  {
   "cell_type": "code",
   "execution_count": 20,
   "id": "570650b4-0096-4063-9117-345e7f7ee822",
   "metadata": {},
   "outputs": [
    {
     "name": "stdout",
     "output_type": "stream",
     "text": [
      "['1', '2', '3', '4', '5', '6', '7', '8', '9']\n"
     ]
    }
   ],
   "source": [
    "strings = [\"abc123\", \"def456\", \"ghi789\"]\n",
    "digits = []\n",
    "for s in strings:\n",
    "    for char in s:\n",
    "        if char.isdigit():\n",
    "            digits.append(char)\n",
    "print(digits)"
   ]
  },
  {
   "cell_type": "code",
   "execution_count": 27,
   "id": "dc2dd0db-22d8-4816-9d64-461c59badbd6",
   "metadata": {},
   "outputs": [
    {
     "data": {
      "text/plain": [
       "[]"
      ]
     },
     "execution_count": 27,
     "metadata": {},
     "output_type": "execute_result"
    }
   ],
   "source": [
    "s = [char for char in strings if char.isdigit()]\n",
    "s"
   ]
  },
  {
   "cell_type": "code",
   "execution_count": 28,
   "id": "96ae48bc-e16b-482c-9bea-7dfdf34b08b4",
   "metadata": {},
   "outputs": [],
   "source": [
    "l = [n*n for n in numbers]"
   ]
  },
  {
   "cell_type": "code",
   "execution_count": 29,
   "id": "b7ad502d-0df0-4516-924a-1db25d93d520",
   "metadata": {},
   "outputs": [
    {
     "data": {
      "text/plain": [
       "[1, 4, 9, 16, 25]"
      ]
     },
     "execution_count": 29,
     "metadata": {},
     "output_type": "execute_result"
    }
   ],
   "source": [
    "l"
   ]
  },
  {
   "cell_type": "code",
   "execution_count": null,
   "id": "82895a3f-9215-4277-aa67-33fc6dfbb99d",
   "metadata": {},
   "outputs": [],
   "source": []
  }
 ],
 "metadata": {
  "kernelspec": {
   "display_name": "Python 3 (ipykernel)",
   "language": "python",
   "name": "python3"
  },
  "language_info": {
   "codemirror_mode": {
    "name": "ipython",
    "version": 3
   },
   "file_extension": ".py",
   "mimetype": "text/x-python",
   "name": "python",
   "nbconvert_exporter": "python",
   "pygments_lexer": "ipython3",
   "version": "3.11.7"
  }
 },
 "nbformat": 4,
 "nbformat_minor": 5
}
