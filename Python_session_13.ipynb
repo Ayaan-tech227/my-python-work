{
 "cells": [
  {
   "cell_type": "markdown",
   "metadata": {
    "id": "mhrIqxJ8QrWK"
   },
   "source": [
    "# **Python Sets**\n",
    "# **Access python Sets**\n",
    "# **Add python Sets**\n",
    "# **Update python sets**\n",
    "# **remove python Sets**\n",
    "# **Method python Sets**"
   ]
  },
  {
   "cell_type": "code",
   "execution_count": 1,
   "metadata": {
    "id": "HlvAQHOVMKXz"
   },
   "outputs": [],
   "source": [
    "# A = {1,2,3,4,5}\n",
    "# B = {2,5,6,7}\n",
    "\n",
    "# AUB = ?   {1,2,3,4,5}U{2,5,6,7} ------->    {1,2,3,4,5,6,7}\n",
    "# A∩B = ?   {1,2,3,4,5}∩{2,5,6,7} ------->    {2,5}\n"
   ]
  },
  {
   "cell_type": "markdown",
   "metadata": {
    "id": "SGxyr_Zcjf-7"
   },
   "source": [
    "# **Python Sets**"
   ]
  },
  {
   "cell_type": "code",
   "execution_count": 2,
   "metadata": {
    "colab": {
     "base_uri": "https://localhost:8080/"
    },
    "id": "K1iT5319Rqh9",
    "outputId": "ad57267b-7a92-4465-cace-0d56f0d13eb0"
   },
   "outputs": [
    {
     "data": {
      "text/plain": [
       "{'Apple', 'Apricot', 'Banana', 'Mango'}"
      ]
     },
     "execution_count": 2,
     "metadata": {},
     "output_type": "execute_result"
    }
   ],
   "source": [
    "fruits = {\"Banana\", \"Apple\", \"Mango\", \"Apricot\", \"Apple\", \"Mango\"}\n",
    "fruits"
   ]
  },
  {
   "cell_type": "code",
   "execution_count": 3,
   "metadata": {
    "colab": {
     "base_uri": "https://localhost:8080/"
    },
    "id": "b0Cz27EekHRZ",
    "outputId": "19631111-319a-4b8f-c18f-e0c58fcad17f"
   },
   "outputs": [
    {
     "data": {
      "text/plain": [
       "set"
      ]
     },
     "execution_count": 3,
     "metadata": {},
     "output_type": "execute_result"
    }
   ],
   "source": [
    "type(fruits)"
   ]
  },
  {
   "cell_type": "code",
   "execution_count": 4,
   "metadata": {
    "colab": {
     "base_uri": "https://localhost:8080/"
    },
    "id": "vM23WdvMlJV0",
    "outputId": "8243ac3c-c6ba-40af-ff12-4b82ab7711b6"
   },
   "outputs": [
    {
     "data": {
      "text/plain": [
       "{1, 2, 3, 4, 5, 555}"
      ]
     },
     "execution_count": 4,
     "metadata": {},
     "output_type": "execute_result"
    }
   ],
   "source": [
    "inte = {1,2,3,3,3,3,4,4,4,5,555}\n",
    "inte"
   ]
  },
  {
   "cell_type": "code",
   "execution_count": 5,
   "metadata": {
    "id": "DT7BDVnNldpb"
   },
   "outputs": [],
   "source": [
    "# float\n",
    "# boolen\n",
    "# multiple data type\n"
   ]
  },
  {
   "cell_type": "markdown",
   "metadata": {
    "id": "5QeVllbelAeA"
   },
   "source": [
    "# **Access python Sets**"
   ]
  },
  {
   "cell_type": "code",
   "execution_count": 6,
   "metadata": {
    "colab": {
     "base_uri": "https://localhost:8080/"
    },
    "id": "LK2RUa5dmh97",
    "outputId": "1afd61d5-e7d1-46a4-ede0-a5a0ee1824c0"
   },
   "outputs": [
    {
     "data": {
      "text/plain": [
       "{'Apple', 'Apricot', 'Banana', 'Mango'}"
      ]
     },
     "execution_count": 6,
     "metadata": {},
     "output_type": "execute_result"
    }
   ],
   "source": [
    "fruits"
   ]
  },
  {
   "cell_type": "code",
   "execution_count": 9,
   "metadata": {
    "colab": {
     "base_uri": "https://localhost:8080/"
    },
    "id": "Ix7VZi3elFGL",
    "outputId": "714cdf83-6ca7-4bd4-d4cd-de9d6521d2ca"
   },
   "outputs": [
    {
     "name": "stdout",
     "output_type": "stream",
     "text": [
      "Apple\n",
      "Banana\n",
      "Apricot\n",
      "Mango\n"
     ]
    }
   ],
   "source": [
    "# loop python set\n",
    "for i in fruits:\n",
    "  print(i)"
   ]
  },
  {
   "cell_type": "code",
   "execution_count": 11,
   "metadata": {
    "colab": {
     "base_uri": "https://localhost:8080/"
    },
    "id": "rEAtk4u4lot-",
    "outputId": "026cc7ec-b290-4def-f961-cd62de71175f"
   },
   "outputs": [
    {
     "data": {
      "text/plain": [
       "True"
      ]
     },
     "execution_count": 11,
     "metadata": {},
     "output_type": "execute_result"
    }
   ],
   "source": [
    "\"A\" in \"Apple\""
   ]
  },
  {
   "cell_type": "code",
   "execution_count": 12,
   "metadata": {
    "colab": {
     "base_uri": "https://localhost:8080/"
    },
    "id": "KUm0jS9wmV7W",
    "outputId": "a3fab659-371c-467d-a67f-5f7d86685d12"
   },
   "outputs": [
    {
     "data": {
      "text/plain": [
       "True"
      ]
     },
     "execution_count": 12,
     "metadata": {},
     "output_type": "execute_result"
    }
   ],
   "source": [
    "\"Banana\" in fruits\n"
   ]
  },
  {
   "cell_type": "markdown",
   "metadata": {
    "id": "TYcz1UVQmz6A"
   },
   "source": [
    "# **Add python Sets**"
   ]
  },
  {
   "cell_type": "code",
   "execution_count": 13,
   "metadata": {
    "colab": {
     "base_uri": "https://localhost:8080/"
    },
    "id": "PsJPXiTBmf_D",
    "outputId": "20429714-addb-4ef4-e881-640042b18b0a"
   },
   "outputs": [
    {
     "data": {
      "text/plain": [
       "{'Apple', 'Apricot', 'Banana', 'Mango', 'cherry'}"
      ]
     },
     "execution_count": 13,
     "metadata": {},
     "output_type": "execute_result"
    }
   ],
   "source": [
    "fruits.add(\"cherry\")\n",
    "fruits"
   ]
  },
  {
   "cell_type": "code",
   "execution_count": 14,
   "metadata": {
    "colab": {
     "base_uri": "https://localhost:8080/"
    },
    "id": "AXl6u_cBm7YS",
    "outputId": "5669cc94-8f9c-451c-c393-270f8557d135"
   },
   "outputs": [
    {
     "data": {
      "text/plain": [
       "['__and__',\n",
       " '__class__',\n",
       " '__class_getitem__',\n",
       " '__contains__',\n",
       " '__delattr__',\n",
       " '__dir__',\n",
       " '__doc__',\n",
       " '__eq__',\n",
       " '__format__',\n",
       " '__ge__',\n",
       " '__getattribute__',\n",
       " '__gt__',\n",
       " '__hash__',\n",
       " '__iand__',\n",
       " '__init__',\n",
       " '__init_subclass__',\n",
       " '__ior__',\n",
       " '__isub__',\n",
       " '__iter__',\n",
       " '__ixor__',\n",
       " '__le__',\n",
       " '__len__',\n",
       " '__lt__',\n",
       " '__ne__',\n",
       " '__new__',\n",
       " '__or__',\n",
       " '__rand__',\n",
       " '__reduce__',\n",
       " '__reduce_ex__',\n",
       " '__repr__',\n",
       " '__ror__',\n",
       " '__rsub__',\n",
       " '__rxor__',\n",
       " '__setattr__',\n",
       " '__sizeof__',\n",
       " '__str__',\n",
       " '__sub__',\n",
       " '__subclasshook__',\n",
       " '__xor__',\n",
       " 'add',\n",
       " 'clear',\n",
       " 'copy',\n",
       " 'difference',\n",
       " 'difference_update',\n",
       " 'discard',\n",
       " 'intersection',\n",
       " 'intersection_update',\n",
       " 'isdisjoint',\n",
       " 'issubset',\n",
       " 'issuperset',\n",
       " 'pop',\n",
       " 'remove',\n",
       " 'symmetric_difference',\n",
       " 'symmetric_difference_update',\n",
       " 'union',\n",
       " 'update']"
      ]
     },
     "execution_count": 14,
     "metadata": {},
     "output_type": "execute_result"
    }
   ],
   "source": [
    "dir(set)"
   ]
  },
  {
   "cell_type": "code",
   "execution_count": 16,
   "metadata": {
    "colab": {
     "base_uri": "https://localhost:8080/"
    },
    "id": "vXJ6jidDnetX",
    "outputId": "46e0becd-3e60-4950-d5b0-6924c3bbcb9f"
   },
   "outputs": [
    {
     "name": "stdout",
     "output_type": "stream",
     "text": [
      "{'Python', 'Css', 'Java', 'C++'}\n",
      "{'Pc', 'Ipad', 'laptop', 'Smart Phone'}\n"
     ]
    }
   ],
   "source": [
    "prog = {\"Java\", \"Python\", \"Css\",\"C++\", \"Css\"}\n",
    "elec = {\"laptop\", \"Pc\", \"Smart Phone\",\"Ipad\", \"Pc\", \"laptop\"}\n",
    "print(prog)\n",
    "print(elec)\n",
    "\n",
    "\n"
   ]
  },
  {
   "cell_type": "code",
   "execution_count": 19,
   "metadata": {
    "colab": {
     "base_uri": "https://localhost:8080/"
    },
    "id": "8lNcc22Cof8q",
    "outputId": "1a7f495c-358c-433b-bd0e-3e56eef4cd6b"
   },
   "outputs": [
    {
     "name": "stdout",
     "output_type": "stream",
     "text": [
      "{'Ipad', 'Css', 'Java', 'Python', 'laptop', 'C++', 'Smart Phone', 'Pc'}\n"
     ]
    }
   ],
   "source": [
    "join_set = prog.union(elec)\n",
    "print(join_set)"
   ]
  },
  {
   "cell_type": "code",
   "execution_count": 20,
   "metadata": {
    "colab": {
     "base_uri": "https://localhost:8080/"
    },
    "id": "J3vyWpuFo-Hy",
    "outputId": "c77c262b-6f74-448e-ac8e-04118ff5e5d4"
   },
   "outputs": [
    {
     "data": {
      "text/plain": [
       "8"
      ]
     },
     "execution_count": 20,
     "metadata": {},
     "output_type": "execute_result"
    }
   ],
   "source": [
    "len(join_set)"
   ]
  },
  {
   "cell_type": "code",
   "execution_count": 23,
   "metadata": {
    "colab": {
     "base_uri": "https://localhost:8080/"
    },
    "id": "cQciHPTRpZ6c",
    "outputId": "d3325e0d-2d89-406f-9437-642946fc99a9"
   },
   "outputs": [
    {
     "data": {
      "text/plain": [
       "{'C++', 'Css', 'Ipad', 'Java', 'Pc', 'Python', 'Smart Phone', 'laptop'}"
      ]
     },
     "execution_count": 23,
     "metadata": {},
     "output_type": "execute_result"
    }
   ],
   "source": [
    "prog"
   ]
  },
  {
   "cell_type": "code",
   "execution_count": 24,
   "metadata": {
    "colab": {
     "base_uri": "https://localhost:8080/"
    },
    "id": "ZQiG_Tz3pvtl",
    "outputId": "f886882e-0622-4cfb-e0c4-6682a75a1b8e"
   },
   "outputs": [
    {
     "data": {
      "text/plain": [
       "8"
      ]
     },
     "execution_count": 24,
     "metadata": {},
     "output_type": "execute_result"
    }
   ],
   "source": [
    "len(prog)"
   ]
  },
  {
   "cell_type": "code",
   "execution_count": 27,
   "metadata": {
    "colab": {
     "base_uri": "https://localhost:8080/"
    },
    "id": "OnEbo8trp6Ha",
    "outputId": "46c22ccf-fdba-4c23-e272-b78a6239f044"
   },
   "outputs": [
    {
     "data": {
      "text/plain": [
       "4"
      ]
     },
     "execution_count": 27,
     "metadata": {},
     "output_type": "execute_result"
    }
   ],
   "source": [
    "len(elec)"
   ]
  },
  {
   "cell_type": "code",
   "execution_count": 28,
   "metadata": {
    "colab": {
     "base_uri": "https://localhost:8080/"
    },
    "id": "Bhk6J-SCqJAk",
    "outputId": "d33abc6e-8ab7-44e4-f7c8-cb21a139eab9"
   },
   "outputs": [
    {
     "data": {
      "text/plain": [
       "{'Ipad', 'Pc', 'Smart Phone', 'laptop'}"
      ]
     },
     "execution_count": 28,
     "metadata": {},
     "output_type": "execute_result"
    }
   ],
   "source": [
    "elec"
   ]
  },
  {
   "cell_type": "code",
   "execution_count": 29,
   "metadata": {
    "colab": {
     "base_uri": "https://localhost:8080/"
    },
    "id": "ITOWkDcHrh2U",
    "outputId": "2125904f-9510-40b8-af9d-28fe137726b5"
   },
   "outputs": [
    {
     "data": {
      "text/plain": [
       "{'C++', 'Css', 'Ipad', 'Java', 'Pc', 'Python', 'Smart Phone', 'laptop'}"
      ]
     },
     "execution_count": 29,
     "metadata": {},
     "output_type": "execute_result"
    }
   ],
   "source": [
    "prog\n"
   ]
  },
  {
   "cell_type": "code",
   "execution_count": 30,
   "metadata": {
    "id": "wqhKDDUfrlXi"
   },
   "outputs": [],
   "source": [
    "a = {1,2,3,4,4,5,6}\n",
    "b = {2,3,4,5,8,9,10}\n",
    "a.update(b)"
   ]
  },
  {
   "cell_type": "code",
   "execution_count": 31,
   "metadata": {
    "colab": {
     "base_uri": "https://localhost:8080/"
    },
    "id": "Nok1KWRlsVFl",
    "outputId": "84bfa2b5-e79a-4fe5-a65e-a1bb9195aa0c"
   },
   "outputs": [
    {
     "data": {
      "text/plain": [
       "{1, 2, 3, 4, 5, 6, 8, 9, 10}"
      ]
     },
     "execution_count": 31,
     "metadata": {},
     "output_type": "execute_result"
    }
   ],
   "source": [
    "a"
   ]
  },
  {
   "cell_type": "code",
   "execution_count": 34,
   "metadata": {
    "colab": {
     "base_uri": "https://localhost:8080/"
    },
    "id": "gjVZugVMsWWo",
    "outputId": "7485425f-8a65-45c2-a9ed-8965da0ed6ef"
   },
   "outputs": [
    {
     "data": {
      "text/plain": [
       "{'Apple', 'Apricot', 'Banana', 'Mango', 'cherry'}"
      ]
     },
     "execution_count": 34,
     "metadata": {},
     "output_type": "execute_result"
    }
   ],
   "source": [
    "fruits\n"
   ]
  },
  {
   "cell_type": "code",
   "execution_count": 35,
   "metadata": {
    "id": "yJOQ82AtsitZ"
   },
   "outputs": [],
   "source": [
    "fruits.remove(\"Apple\")"
   ]
  },
  {
   "cell_type": "code",
   "execution_count": 36,
   "metadata": {
    "colab": {
     "base_uri": "https://localhost:8080/"
    },
    "id": "9kJwnHEitc1e",
    "outputId": "a552b995-40b0-4451-e393-77312e1c95bd"
   },
   "outputs": [
    {
     "data": {
      "text/plain": [
       "{'Apricot', 'Banana', 'Mango', 'cherry'}"
      ]
     },
     "execution_count": 36,
     "metadata": {},
     "output_type": "execute_result"
    }
   ],
   "source": [
    "fruits"
   ]
  },
  {
   "cell_type": "code",
   "execution_count": 37,
   "metadata": {
    "id": "Q5_5QiJIte3h"
   },
   "outputs": [],
   "source": [
    "up_fr = fruits.remove(\"Banana\")\n",
    "up_fr"
   ]
  },
  {
   "cell_type": "code",
   "execution_count": 39,
   "metadata": {
    "colab": {
     "base_uri": "https://localhost:8080/"
    },
    "id": "SqNxOmJbtnu4",
    "outputId": "5157d2f9-53b2-48f6-9760-692bc9820709"
   },
   "outputs": [
    {
     "name": "stdout",
     "output_type": "stream",
     "text": [
      "None\n"
     ]
    }
   ],
   "source": [
    "print(up_fr)"
   ]
  },
  {
   "cell_type": "code",
   "execution_count": 40,
   "metadata": {
    "colab": {
     "base_uri": "https://localhost:8080/"
    },
    "id": "R3lf74cNtpfp",
    "outputId": "630671dc-1949-4f3e-9137-25350d5e1741"
   },
   "outputs": [
    {
     "data": {
      "text/plain": [
       "{'Apricot', 'Mango'}"
      ]
     },
     "execution_count": 40,
     "metadata": {},
     "output_type": "execute_result"
    }
   ],
   "source": [
    "fruits.discard(\"cherry\")\n",
    "fruits"
   ]
  },
  {
   "cell_type": "code",
   "execution_count": 44,
   "metadata": {
    "id": "C5EIoOfgt-rP"
   },
   "outputs": [],
   "source": [
    "A = {1,2,3,4,5}\n",
    "B = {2,3,4,6}\n",
    "c = A.intersection(B)"
   ]
  },
  {
   "cell_type": "code",
   "execution_count": 45,
   "metadata": {
    "colab": {
     "base_uri": "https://localhost:8080/"
    },
    "id": "9Ll1A9YkulBi",
    "outputId": "bac3bf84-cb21-488c-ad29-9b049a3cfaf4"
   },
   "outputs": [
    {
     "data": {
      "text/plain": [
       "{2, 3, 4}"
      ]
     },
     "execution_count": 45,
     "metadata": {},
     "output_type": "execute_result"
    }
   ],
   "source": [
    "c"
   ]
  },
  {
   "cell_type": "code",
   "execution_count": null,
   "metadata": {
    "id": "dVb48iOWu92f"
   },
   "outputs": [],
   "source": []
  }
 ],
 "metadata": {
  "colab": {
   "provenance": []
  },
  "kernelspec": {
   "display_name": "Python 3 (ipykernel)",
   "language": "python",
   "name": "python3"
  },
  "language_info": {
   "codemirror_mode": {
    "name": "ipython",
    "version": 3
   },
   "file_extension": ".py",
   "mimetype": "text/x-python",
   "name": "python",
   "nbconvert_exporter": "python",
   "pygments_lexer": "ipython3",
   "version": "3.11.7"
  }
 },
 "nbformat": 4,
 "nbformat_minor": 4
}
