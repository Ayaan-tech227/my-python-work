{
 "cells": [
  {
   "cell_type": "markdown",
   "id": "f67a569e",
   "metadata": {},
   "source": [
    "## **Insights from Data Analysis Project**\n",
    "\n",
    "**This comprehensive data analysis project provided valuable insights into various aspects of workforce dynamics, salary trends, and experience levels within the dataset. Here are the key takeaways from my analysis.**"
   ]
  },
  {
   "cell_type": "markdown",
   "id": "dcddee06",
   "metadata": {},
   "source": [
    "### **Import required libraries**"
   ]
  },
  {
   "cell_type": "code",
   "execution_count": 2,
   "id": "bf2f8095",
   "metadata": {},
   "outputs": [],
   "source": [
    "import pandas as pd\n",
    "import matplotlib.pyplot as plt\n",
    "import seaborn as sns\n",
    "import numpy as np"
   ]
  },
  {
   "cell_type": "code",
   "execution_count": 3,
   "id": "39d9f411",
   "metadata": {},
   "outputs": [
    {
     "data": {
      "text/html": [
       "<div>\n",
       "<style scoped>\n",
       "    .dataframe tbody tr th:only-of-type {\n",
       "        vertical-align: middle;\n",
       "    }\n",
       "\n",
       "    .dataframe tbody tr th {\n",
       "        vertical-align: top;\n",
       "    }\n",
       "\n",
       "    .dataframe thead th {\n",
       "        text-align: right;\n",
       "    }\n",
       "</style>\n",
       "<table border=\"1\" class=\"dataframe\">\n",
       "  <thead>\n",
       "    <tr style=\"text-align: right;\">\n",
       "      <th></th>\n",
       "      <th>Unnamed: 0</th>\n",
       "      <th>work_year</th>\n",
       "      <th>experience_level</th>\n",
       "      <th>employment_type</th>\n",
       "      <th>job_title</th>\n",
       "      <th>salary</th>\n",
       "      <th>salary_currency</th>\n",
       "      <th>salary_in_usd</th>\n",
       "      <th>employee_residence</th>\n",
       "      <th>remote_ratio</th>\n",
       "      <th>company_location</th>\n",
       "      <th>company_size</th>\n",
       "    </tr>\n",
       "  </thead>\n",
       "  <tbody>\n",
       "    <tr>\n",
       "      <th>0</th>\n",
       "      <td>0</td>\n",
       "      <td>2020</td>\n",
       "      <td>MI</td>\n",
       "      <td>FT</td>\n",
       "      <td>Data Scientist</td>\n",
       "      <td>70000</td>\n",
       "      <td>EUR</td>\n",
       "      <td>79833</td>\n",
       "      <td>DE</td>\n",
       "      <td>0</td>\n",
       "      <td>DE</td>\n",
       "      <td>L</td>\n",
       "    </tr>\n",
       "    <tr>\n",
       "      <th>1</th>\n",
       "      <td>1</td>\n",
       "      <td>2020</td>\n",
       "      <td>SE</td>\n",
       "      <td>FT</td>\n",
       "      <td>Machine Learning Scientist</td>\n",
       "      <td>260000</td>\n",
       "      <td>USD</td>\n",
       "      <td>260000</td>\n",
       "      <td>JP</td>\n",
       "      <td>0</td>\n",
       "      <td>JP</td>\n",
       "      <td>S</td>\n",
       "    </tr>\n",
       "    <tr>\n",
       "      <th>2</th>\n",
       "      <td>2</td>\n",
       "      <td>2020</td>\n",
       "      <td>SE</td>\n",
       "      <td>FT</td>\n",
       "      <td>Big Data Engineer</td>\n",
       "      <td>85000</td>\n",
       "      <td>GBP</td>\n",
       "      <td>109024</td>\n",
       "      <td>GB</td>\n",
       "      <td>50</td>\n",
       "      <td>GB</td>\n",
       "      <td>M</td>\n",
       "    </tr>\n",
       "    <tr>\n",
       "      <th>3</th>\n",
       "      <td>3</td>\n",
       "      <td>2020</td>\n",
       "      <td>MI</td>\n",
       "      <td>FT</td>\n",
       "      <td>Product Data Analyst</td>\n",
       "      <td>20000</td>\n",
       "      <td>USD</td>\n",
       "      <td>20000</td>\n",
       "      <td>HN</td>\n",
       "      <td>0</td>\n",
       "      <td>HN</td>\n",
       "      <td>S</td>\n",
       "    </tr>\n",
       "    <tr>\n",
       "      <th>4</th>\n",
       "      <td>4</td>\n",
       "      <td>2020</td>\n",
       "      <td>SE</td>\n",
       "      <td>FT</td>\n",
       "      <td>Machine Learning Engineer</td>\n",
       "      <td>150000</td>\n",
       "      <td>USD</td>\n",
       "      <td>150000</td>\n",
       "      <td>US</td>\n",
       "      <td>50</td>\n",
       "      <td>US</td>\n",
       "      <td>L</td>\n",
       "    </tr>\n",
       "  </tbody>\n",
       "</table>\n",
       "</div>"
      ],
      "text/plain": [
       "   Unnamed: 0  work_year experience_level employment_type  \\\n",
       "0           0       2020               MI              FT   \n",
       "1           1       2020               SE              FT   \n",
       "2           2       2020               SE              FT   \n",
       "3           3       2020               MI              FT   \n",
       "4           4       2020               SE              FT   \n",
       "\n",
       "                    job_title  salary salary_currency  salary_in_usd  \\\n",
       "0              Data Scientist   70000             EUR          79833   \n",
       "1  Machine Learning Scientist  260000             USD         260000   \n",
       "2           Big Data Engineer   85000             GBP         109024   \n",
       "3        Product Data Analyst   20000             USD          20000   \n",
       "4   Machine Learning Engineer  150000             USD         150000   \n",
       "\n",
       "  employee_residence  remote_ratio company_location company_size  \n",
       "0                 DE             0               DE            L  \n",
       "1                 JP             0               JP            S  \n",
       "2                 GB            50               GB            M  \n",
       "3                 HN             0               HN            S  \n",
       "4                 US            50               US            L  "
      ]
     },
     "execution_count": 3,
     "metadata": {},
     "output_type": "execute_result"
    }
   ],
   "source": [
    "df = pd.read_csv(\"data_science.csv\")\n",
    "df.head()"
   ]
  },
  {
   "cell_type": "code",
   "execution_count": 4,
   "id": "785e16ed",
   "metadata": {},
   "outputs": [
    {
     "name": "stdout",
     "output_type": "stream",
     "text": [
      "<class 'pandas.core.frame.DataFrame'>\n",
      "RangeIndex: 607 entries, 0 to 606\n",
      "Data columns (total 12 columns):\n",
      " #   Column              Non-Null Count  Dtype \n",
      "---  ------              --------------  ----- \n",
      " 0   Unnamed: 0          607 non-null    int64 \n",
      " 1   work_year           607 non-null    int64 \n",
      " 2   experience_level    607 non-null    object\n",
      " 3   employment_type     607 non-null    object\n",
      " 4   job_title           607 non-null    object\n",
      " 5   salary              607 non-null    int64 \n",
      " 6   salary_currency     607 non-null    object\n",
      " 7   salary_in_usd       607 non-null    int64 \n",
      " 8   employee_residence  607 non-null    object\n",
      " 9   remote_ratio        607 non-null    int64 \n",
      " 10  company_location    607 non-null    object\n",
      " 11  company_size        607 non-null    object\n",
      "dtypes: int64(5), object(7)\n",
      "memory usage: 57.0+ KB\n"
     ]
    }
   ],
   "source": [
    "df.info()"
   ]
  },
  {
   "cell_type": "markdown",
   "id": "475e3057",
   "metadata": {},
   "source": [
    "**removes unnecessary columns (\"Unnamed: 0\" and \"salary\") from the df inplace =True meaning it modifies the DataFrame directly.**"
   ]
  },
  {
   "cell_type": "code",
   "execution_count": 5,
   "id": "1411a950",
   "metadata": {},
   "outputs": [],
   "source": [
    "df.drop(df[['Unnamed: 0', 'salary']], axis = 1 , inplace = True)"
   ]
  },
  {
   "cell_type": "code",
   "execution_count": 6,
   "id": "a2611145",
   "metadata": {},
   "outputs": [
    {
     "data": {
      "text/html": [
       "<div>\n",
       "<style scoped>\n",
       "    .dataframe tbody tr th:only-of-type {\n",
       "        vertical-align: middle;\n",
       "    }\n",
       "\n",
       "    .dataframe tbody tr th {\n",
       "        vertical-align: top;\n",
       "    }\n",
       "\n",
       "    .dataframe thead th {\n",
       "        text-align: right;\n",
       "    }\n",
       "</style>\n",
       "<table border=\"1\" class=\"dataframe\">\n",
       "  <thead>\n",
       "    <tr style=\"text-align: right;\">\n",
       "      <th></th>\n",
       "      <th>work_year</th>\n",
       "      <th>experience_level</th>\n",
       "      <th>employment_type</th>\n",
       "      <th>job_title</th>\n",
       "      <th>salary_currency</th>\n",
       "      <th>salary_in_usd</th>\n",
       "      <th>employee_residence</th>\n",
       "      <th>remote_ratio</th>\n",
       "      <th>company_location</th>\n",
       "      <th>company_size</th>\n",
       "    </tr>\n",
       "  </thead>\n",
       "  <tbody>\n",
       "    <tr>\n",
       "      <th>0</th>\n",
       "      <td>2020</td>\n",
       "      <td>MI</td>\n",
       "      <td>FT</td>\n",
       "      <td>Data Scientist</td>\n",
       "      <td>EUR</td>\n",
       "      <td>79833</td>\n",
       "      <td>DE</td>\n",
       "      <td>0</td>\n",
       "      <td>DE</td>\n",
       "      <td>L</td>\n",
       "    </tr>\n",
       "    <tr>\n",
       "      <th>1</th>\n",
       "      <td>2020</td>\n",
       "      <td>SE</td>\n",
       "      <td>FT</td>\n",
       "      <td>Machine Learning Scientist</td>\n",
       "      <td>USD</td>\n",
       "      <td>260000</td>\n",
       "      <td>JP</td>\n",
       "      <td>0</td>\n",
       "      <td>JP</td>\n",
       "      <td>S</td>\n",
       "    </tr>\n",
       "    <tr>\n",
       "      <th>2</th>\n",
       "      <td>2020</td>\n",
       "      <td>SE</td>\n",
       "      <td>FT</td>\n",
       "      <td>Big Data Engineer</td>\n",
       "      <td>GBP</td>\n",
       "      <td>109024</td>\n",
       "      <td>GB</td>\n",
       "      <td>50</td>\n",
       "      <td>GB</td>\n",
       "      <td>M</td>\n",
       "    </tr>\n",
       "    <tr>\n",
       "      <th>3</th>\n",
       "      <td>2020</td>\n",
       "      <td>MI</td>\n",
       "      <td>FT</td>\n",
       "      <td>Product Data Analyst</td>\n",
       "      <td>USD</td>\n",
       "      <td>20000</td>\n",
       "      <td>HN</td>\n",
       "      <td>0</td>\n",
       "      <td>HN</td>\n",
       "      <td>S</td>\n",
       "    </tr>\n",
       "    <tr>\n",
       "      <th>4</th>\n",
       "      <td>2020</td>\n",
       "      <td>SE</td>\n",
       "      <td>FT</td>\n",
       "      <td>Machine Learning Engineer</td>\n",
       "      <td>USD</td>\n",
       "      <td>150000</td>\n",
       "      <td>US</td>\n",
       "      <td>50</td>\n",
       "      <td>US</td>\n",
       "      <td>L</td>\n",
       "    </tr>\n",
       "  </tbody>\n",
       "</table>\n",
       "</div>"
      ],
      "text/plain": [
       "   work_year experience_level employment_type                   job_title  \\\n",
       "0       2020               MI              FT              Data Scientist   \n",
       "1       2020               SE              FT  Machine Learning Scientist   \n",
       "2       2020               SE              FT           Big Data Engineer   \n",
       "3       2020               MI              FT        Product Data Analyst   \n",
       "4       2020               SE              FT   Machine Learning Engineer   \n",
       "\n",
       "  salary_currency  salary_in_usd employee_residence  remote_ratio  \\\n",
       "0             EUR          79833                 DE             0   \n",
       "1             USD         260000                 JP             0   \n",
       "2             GBP         109024                 GB            50   \n",
       "3             USD          20000                 HN             0   \n",
       "4             USD         150000                 US            50   \n",
       "\n",
       "  company_location company_size  \n",
       "0               DE            L  \n",
       "1               JP            S  \n",
       "2               GB            M  \n",
       "3               HN            S  \n",
       "4               US            L  "
      ]
     },
     "execution_count": 6,
     "metadata": {},
     "output_type": "execute_result"
    }
   ],
   "source": [
    "df.head()"
   ]
  },
  {
   "cell_type": "markdown",
   "id": "829fef4d",
   "metadata": {},
   "source": [
    "**Retrieves the unique values present in the 'work_year' column of the DataFrame df.**"
   ]
  },
  {
   "cell_type": "code",
   "execution_count": 7,
   "id": "9f3dc9d5",
   "metadata": {},
   "outputs": [
    {
     "data": {
      "text/plain": [
       "array([2020, 2021, 2022], dtype=int64)"
      ]
     },
     "execution_count": 7,
     "metadata": {},
     "output_type": "execute_result"
    }
   ],
   "source": [
    "df['work_year'].unique()"
   ]
  },
  {
   "cell_type": "markdown",
   "id": "097d1770",
   "metadata": {},
   "source": [
    "## **Exploring Workforce Dynamics:**\n",
    "\n",
    "I began by examining the distribution of work experience across different years, shedding light on the average salaries for each year. The analysis revealed trends in salary progression over time, offering valuable insights for career planning and salary negotiations."
   ]
  },
  {
   "cell_type": "code",
   "execution_count": 8,
   "id": "aae853a8",
   "metadata": {},
   "outputs": [
    {
     "data": {
      "text/plain": [
       "3.5"
      ]
     },
     "execution_count": 8,
     "metadata": {},
     "output_type": "execute_result"
    }
   ],
   "source": [
    "mean = sum([1,2,3,4,5,6])/6\n",
    "mean"
   ]
  },
  {
   "cell_type": "code",
   "execution_count": 9,
   "id": "00e14528",
   "metadata": {},
   "outputs": [
    {
     "data": {
      "text/plain": [
       "0       79833\n",
       "1      260000\n",
       "2      109024\n",
       "3       20000\n",
       "4      150000\n",
       "        ...  \n",
       "602    154000\n",
       "603    126000\n",
       "604    129000\n",
       "605    150000\n",
       "606    200000\n",
       "Name: salary_in_usd, Length: 607, dtype: int64"
      ]
     },
     "execution_count": 9,
     "metadata": {},
     "output_type": "execute_result"
    }
   ],
   "source": [
    "df['salary_in_usd']"
   ]
  },
  {
   "cell_type": "code",
   "execution_count": 10,
   "id": "6d34b863",
   "metadata": {},
   "outputs": [
    {
     "data": {
      "text/plain": [
       "112297.86985172982"
      ]
     },
     "execution_count": 10,
     "metadata": {},
     "output_type": "execute_result"
    }
   ],
   "source": [
    "df['salary_in_usd'].mean()"
   ]
  },
  {
   "cell_type": "code",
   "execution_count": 11,
   "id": "49919050",
   "metadata": {},
   "outputs": [
    {
     "data": {
      "text/plain": [
       "112297.87"
      ]
     },
     "execution_count": 11,
     "metadata": {},
     "output_type": "execute_result"
    }
   ],
   "source": [
    "round(df['salary_in_usd'].mean(),2)"
   ]
  },
  {
   "cell_type": "code",
   "execution_count": 12,
   "id": "1064af10",
   "metadata": {},
   "outputs": [
    {
     "data": {
      "text/plain": [
       "work_year\n",
       "2020     95813.00\n",
       "2021     99853.79\n",
       "2022    124522.01\n",
       "Name: salary_in_usd, dtype: float64"
      ]
     },
     "execution_count": 12,
     "metadata": {},
     "output_type": "execute_result"
    }
   ],
   "source": [
    "df.groupby('work_year')['salary_in_usd'].mean().round(2)"
   ]
  },
  {
   "cell_type": "code",
   "execution_count": 13,
   "id": "f4269432",
   "metadata": {},
   "outputs": [
    {
     "data": {
      "text/plain": [
       "work_year\n",
       "2020     95813.00\n",
       "2021     99853.79\n",
       "2022    124522.01\n",
       "Name: salary_in_usd, dtype: float64"
      ]
     },
     "execution_count": 13,
     "metadata": {},
     "output_type": "execute_result"
    }
   ],
   "source": [
    "df1 = df.groupby('work_year')['salary_in_usd'].mean().round(2)\n",
    "df1"
   ]
  },
  {
   "cell_type": "code",
   "execution_count": 14,
   "id": "928170ca",
   "metadata": {},
   "outputs": [
    {
     "data": {
      "text/plain": [
       "Index([2020, 2021, 2022], dtype='int64', name='work_year')"
      ]
     },
     "execution_count": 14,
     "metadata": {},
     "output_type": "execute_result"
    }
   ],
   "source": [
    "df1.index"
   ]
  },
  {
   "cell_type": "code",
   "execution_count": 15,
   "id": "65b2e40d",
   "metadata": {},
   "outputs": [
    {
     "data": {
      "text/plain": [
       "array([ 95813.  ,  99853.79, 124522.01])"
      ]
     },
     "execution_count": 15,
     "metadata": {},
     "output_type": "execute_result"
    }
   ],
   "source": [
    "df1.values"
   ]
  },
  {
   "cell_type": "code",
   "execution_count": 16,
   "id": "ea797277",
   "metadata": {},
   "outputs": [
    {
     "data": {
      "text/html": [
       "<div>\n",
       "<style scoped>\n",
       "    .dataframe tbody tr th:only-of-type {\n",
       "        vertical-align: middle;\n",
       "    }\n",
       "\n",
       "    .dataframe tbody tr th {\n",
       "        vertical-align: top;\n",
       "    }\n",
       "\n",
       "    .dataframe thead th {\n",
       "        text-align: right;\n",
       "    }\n",
       "</style>\n",
       "<table border=\"1\" class=\"dataframe\">\n",
       "  <thead>\n",
       "    <tr style=\"text-align: right;\">\n",
       "      <th></th>\n",
       "      <th>work_year</th>\n",
       "      <th>average_salary</th>\n",
       "    </tr>\n",
       "  </thead>\n",
       "  <tbody>\n",
       "    <tr>\n",
       "      <th>0</th>\n",
       "      <td>2020</td>\n",
       "      <td>95813.00</td>\n",
       "    </tr>\n",
       "    <tr>\n",
       "      <th>1</th>\n",
       "      <td>2021</td>\n",
       "      <td>99853.79</td>\n",
       "    </tr>\n",
       "    <tr>\n",
       "      <th>2</th>\n",
       "      <td>2022</td>\n",
       "      <td>124522.01</td>\n",
       "    </tr>\n",
       "  </tbody>\n",
       "</table>\n",
       "</div>"
      ],
      "text/plain": [
       "   work_year  average_salary\n",
       "0       2020        95813.00\n",
       "1       2021        99853.79\n",
       "2       2022       124522.01"
      ]
     },
     "execution_count": 16,
     "metadata": {},
     "output_type": "execute_result"
    }
   ],
   "source": [
    "data = {\n",
    "    'work_year': df1.index,\n",
    "    'average_salary': df1.values\n",
    "}\n",
    "df1 = pd.DataFrame(data)\n",
    "df1\n",
    "# data"
   ]
  },
  {
   "cell_type": "markdown",
   "id": "f2cbee8a",
   "metadata": {},
   "source": [
    "**This code divides the values in the 'average_salary' column of DataFrame df1 by 1000 and rounds the result to two decimal places.**"
   ]
  },
  {
   "cell_type": "code",
   "execution_count": 17,
   "id": "23e27cd6",
   "metadata": {},
   "outputs": [
    {
     "data": {
      "text/html": [
       "<div>\n",
       "<style scoped>\n",
       "    .dataframe tbody tr th:only-of-type {\n",
       "        vertical-align: middle;\n",
       "    }\n",
       "\n",
       "    .dataframe tbody tr th {\n",
       "        vertical-align: top;\n",
       "    }\n",
       "\n",
       "    .dataframe thead th {\n",
       "        text-align: right;\n",
       "    }\n",
       "</style>\n",
       "<table border=\"1\" class=\"dataframe\">\n",
       "  <thead>\n",
       "    <tr style=\"text-align: right;\">\n",
       "      <th></th>\n",
       "      <th>work_year</th>\n",
       "      <th>average_salary</th>\n",
       "    </tr>\n",
       "  </thead>\n",
       "  <tbody>\n",
       "    <tr>\n",
       "      <th>0</th>\n",
       "      <td>2020</td>\n",
       "      <td>95.81</td>\n",
       "    </tr>\n",
       "    <tr>\n",
       "      <th>1</th>\n",
       "      <td>2021</td>\n",
       "      <td>99.85</td>\n",
       "    </tr>\n",
       "    <tr>\n",
       "      <th>2</th>\n",
       "      <td>2022</td>\n",
       "      <td>124.52</td>\n",
       "    </tr>\n",
       "  </tbody>\n",
       "</table>\n",
       "</div>"
      ],
      "text/plain": [
       "   work_year  average_salary\n",
       "0       2020           95.81\n",
       "1       2021           99.85\n",
       "2       2022          124.52"
      ]
     },
     "execution_count": 17,
     "metadata": {},
     "output_type": "execute_result"
    }
   ],
   "source": [
    "df1['average_salary'] = (df1['average_salary']/1000).round(2)\n",
    "df1"
   ]
  },
  {
   "cell_type": "code",
   "execution_count": 19,
   "id": "514ccfec",
   "metadata": {},
   "outputs": [
    {
     "ename": "NameError",
     "evalue": "name 'true' is not defined",
     "output_type": "error",
     "traceback": [
      "\u001b[1;31m---------------------------------------------------------------------------\u001b[0m",
      "\u001b[1;31mNameError\u001b[0m                                 Traceback (most recent call last)",
      "Cell \u001b[1;32mIn[19], line 1\u001b[0m\n\u001b[1;32m----> 1\u001b[0m ax \u001b[38;5;241m=\u001b[39m sns\u001b[38;5;241m.\u001b[39mhistplot(kind \u001b[38;5;241m=\u001b[39m \u001b[38;5;124m'\u001b[39m\u001b[38;5;124mbar\u001b[39m\u001b[38;5;124m'\u001b[39m, x \u001b[38;5;241m=\u001b[39m \u001b[38;5;124m'\u001b[39m\u001b[38;5;124mwork_year\u001b[39m\u001b[38;5;124m'\u001b[39m, y \u001b[38;5;241m=\u001b[39m \u001b[38;5;124m'\u001b[39m\u001b[38;5;124maverage_salary\u001b[39m\u001b[38;5;124m'\u001b[39m, legend \u001b[38;5;241m=\u001b[39m \u001b[38;5;28;01mTrue\u001b[39;00m,kde \u001b[38;5;241m=\u001b[39m true)\n",
      "\u001b[1;31mNameError\u001b[0m: name 'true' is not defined"
     ]
    }
   ],
   "source": [
    "ax = sns.histplot(kind = 'bar', x = 'work_year', y = 'average_salary', legend = True,kde = true)"
   ]
  },
  {
   "cell_type": "code",
   "execution_count": 18,
   "id": "954accf9",
   "metadata": {},
   "outputs": [
    {
     "data": {
      "text/plain": [
       "[Text(0, 0, '95.81K'), Text(0, 0, '99.85K'), Text(0, 0, '124.52K')]"
      ]
     },
     "execution_count": 18,
     "metadata": {},
     "output_type": "execute_result"
    },
    {
     "data": {
      "image/png": "[encoded data removed]",
      "text/plain": [
       "<Figure size 640x480 with 1 Axes>"
      ]
     },
     "metadata": {},
     "output_type": "display_data"
    }
   ],
   "source": [
    "ax = df1.plot(kind = 'bar', x = 'work_year', y = 'average_salary', legend = True)\n",
    "ax.bar_label(ax.containers[0], labels = df1['average_salary'].map('{:.2f}K'.format))\n"
   ]
  },
  {
   "cell_type": "code",
   "execution_count": 22,
   "id": "6093582a",
   "metadata": {},
   "outputs": [
    {
     "data": {
      "image/png": "[encoded data removed]",
      "text/plain": [
       "<Figure size 640x480 with 1 Axes>"
      ]
     },
     "metadata": {},
     "output_type": "display_data"
    }
   ],
   "source": [
    "ax = df1.plot(kind = 'bar', x = 'work_year', y = 'average_salary', legend = True)\n",
    "ax.bar_label(ax.containers[0], labels = df1['average_salary'].map('{:.2f}K'.format))\n",
    "plt.subplots_adjust(top = 1.3)\n",
    "ax.legend(['Average Salary'], loc = 'upper left')\n",
    "plt.xlabel('Work Year')\n",
    "plt.ylabel('Average Salary')\n",
    "plt.title('Average salaries by years', color = 'red')\n",
    "plt.show()"
   ]
  },
  {
   "cell_type": "markdown",
   "id": "5669563a",
   "metadata": {},
   "source": [
    "----------------------------------------------------------------"
   ]
  },
  {
   "cell_type": "code",
   "execution_count": null,
   "id": "cac886a0",
   "metadata": {},
   "outputs": [],
   "source": [
    "df.head()"
   ]
  },
  {
   "cell_type": "markdown",
   "id": "159e5f10",
   "metadata": {},
   "source": [
    "## **Remote Work Trends:**\n",
    "\n",
    "Analysis delved into the prevalence of remote work positions within the dataset, categorizing employees based on their remote work status. By visualizing the distribution of remote positions, we gained insights into the evolving landscape of remote work and its impact on workforce dynamics."
   ]
  },
  {
   "cell_type": "code",
   "execution_count": null,
   "id": "430055c1",
   "metadata": {},
   "outputs": [],
   "source": [
    "df['remote_ratio']"
   ]
  },
  {
   "cell_type": "code",
   "execution_count": null,
   "id": "ffb4936f",
   "metadata": {},
   "outputs": [],
   "source": [
    "df.remote_ratio"
   ]
  },
  {
   "cell_type": "code",
   "execution_count": null,
   "id": "9d3bb2d8",
   "metadata": {},
   "outputs": [],
   "source": [
    "df.remote_ratio.unique()"
   ]
  },
  {
   "cell_type": "code",
   "execution_count": null,
   "id": "fbe61bd5",
   "metadata": {},
   "outputs": [],
   "source": [
    "df2 = df.remote_ratio.value_counts()\n",
    "df2\n",
    "# This code calculates the frequency of each unique value in the 'remote_ratio' column of the DataFrame df and stores\n",
    "# the counts in a new DataFrame named df2."
   ]
  },
  {
   "cell_type": "code",
   "execution_count": null,
   "id": "1d28576b",
   "metadata": {},
   "outputs": [],
   "source": [
    "df2.values"
   ]
  },
  {
   "cell_type": "code",
   "execution_count": null,
   "id": "016f5c57",
   "metadata": {},
   "outputs": [],
   "source": [
    "values = df2.to_list()\n",
    "values"
   ]
  },
  {
   "cell_type": "code",
   "execution_count": null,
   "id": "fdc31e6e",
   "metadata": {},
   "outputs": [],
   "source": [
    "labels = ['Fully remote', 'No remote', 'Partially remote']"
   ]
  },
  {
   "cell_type": "markdown",
   "id": "8bf646cc",
   "metadata": {},
   "source": [
    "This code creates a bar plot showing the counts of employees in different remote work positions. It uses the predefined labels and values to represent 'Fully remote', 'No remote', and 'Partially remote' categories on the x-axis and their corresponding counts on the y-axis. The plot is adjusted to accommodate the title and displayed accordingly."
   ]
  },
  {
   "cell_type": "code",
   "execution_count": null,
   "id": "dbd7d753",
   "metadata": {},
   "outputs": [],
   "source": [
    "z = plt.bar(labels, values, width = 0.5, color = 'red')\n"
   ]
  },
  {
   "cell_type": "code",
   "execution_count": null,
   "id": "7204b498",
   "metadata": {},
   "outputs": [],
   "source": [
    "z = plt.bar(labels, values, width = 0.5, color = 'red')\n",
    "plt.bar_label(z, labels = values)\n"
   ]
  },
  {
   "cell_type": "code",
   "execution_count": null,
   "id": "cbc3e873",
   "metadata": {},
   "outputs": [],
   "source": [
    "z = plt.bar(labels, values, width = 0.5, color = 'red')\n",
    "plt.bar_label(z, labels = values)\n",
    "plt.subplots_adjust(top = 1.3)\n",
    "plt.title('Employee in a remote position')\n",
    "plt.ylabel('Counts')\n",
    "plt.show()"
   ]
  },
  {
   "cell_type": "code",
   "execution_count": null,
   "id": "3a0f327e",
   "metadata": {},
   "outputs": [],
   "source": [
    "df.head(1)"
   ]
  },
  {
   "cell_type": "code",
   "execution_count": null,
   "id": "5f7212a0",
   "metadata": {},
   "outputs": [],
   "source": [
    "df.company_size.unique()"
   ]
  },
  {
   "cell_type": "markdown",
   "id": "a343c057",
   "metadata": {},
   "source": [
    "## **Company Size Analysis:**\n",
    "\n",
    "Further exploration focused on the distribution of company sizes within the dataset. By visualizing the distribution of companies based on their size categories, we gained insights into the composition of companies and their workforce sizes."
   ]
  },
  {
   "cell_type": "code",
   "execution_count": null,
   "id": "cfc1ee95",
   "metadata": {},
   "outputs": [],
   "source": [
    "df3 = df.company_size.value_counts()\n",
    "df3"
   ]
  },
  {
   "cell_type": "code",
   "execution_count": null,
   "id": "59a38128",
   "metadata": {},
   "outputs": [],
   "source": [
    "df3.index.to_list()"
   ]
  },
  {
   "cell_type": "code",
   "execution_count": null,
   "id": "48faa67d",
   "metadata": {},
   "outputs": [],
   "source": [
    "values2 = df3.to_list()\n",
    "values2"
   ]
  },
  {
   "cell_type": "code",
   "execution_count": null,
   "id": "2368d582",
   "metadata": {},
   "outputs": [],
   "source": [
    "labels_for_company = [\"Medium\", \"Large\", \"Small\"]\n",
    "labels_for_company"
   ]
  },
  {
   "cell_type": "markdown",
   "id": "b907c0f0",
   "metadata": {},
   "source": [
    "This code creates a pie chart to visualize the distribution of company sizes. It uses the values from the DataFrame df3 (stored in values2) as input for the pie chart. Labels for the company sizes are added as legends. The chart is configured to display percentages and shadows, and the aspect ratio is set to 'equal'. Finally, the title \"Company Size\" is added, and the plot is displayed."
   ]
  },
  {
   "cell_type": "code",
   "execution_count": null,
   "id": "eb775102",
   "metadata": {},
   "outputs": [],
   "source": [
    "plt.figure(figsize = (13,6))\n",
    "plt.pie(x = values2, labels = None)"
   ]
  },
  {
   "cell_type": "code",
   "execution_count": null,
   "id": "bf151bce",
   "metadata": {},
   "outputs": [],
   "source": [
    "plt.figure(figsize = (13,6))\n",
    "plt.pie(x = values2, labels = None, autopct = '%1.1f%%', shadow = True)\n",
    "plt.legend(labels = labels_for_company, loc = 'upper right')\n",
    "plt.axis('equal')\n",
    "plt.title(\"Company Size\")\n",
    "plt.show()"
   ]
  },
  {
   "cell_type": "code",
   "execution_count": null,
   "id": "6a693d9e",
   "metadata": {},
   "outputs": [],
   "source": [
    "df.head(3)"
   ]
  },
  {
   "cell_type": "markdown",
   "id": "debdef0a",
   "metadata": {},
   "source": [
    "## **Job Title Analysis:**\n",
    "\n",
    "Analyzed the frequency of the top five unique job titles within the dataset, providing insights into the most common job roles. By visualizing the distribution of job titles, we gained insights into the diversity of roles and responsibilities within the workforce."
   ]
  },
  {
   "cell_type": "code",
   "execution_count": null,
   "id": "b38e2a48",
   "metadata": {},
   "outputs": [],
   "source": [
    "df.job_title.unique()"
   ]
  },
  {
   "cell_type": "code",
   "execution_count": null,
   "id": "ff626be2",
   "metadata": {},
   "outputs": [],
   "source": [
    "df.job_title.value_counts()"
   ]
  },
  {
   "cell_type": "code",
   "execution_count": null,
   "id": "f1e88121",
   "metadata": {},
   "outputs": [],
   "source": [
    "df4 = df.job_title.value_counts().head()\n",
    "df4"
   ]
  },
  {
   "cell_type": "markdown",
   "id": "f8043d96",
   "metadata": {},
   "source": [
    "\n",
    "This code creates a bar plot to visualize the frequency of the top five job titles. It utilizes seaborn's barplot function, with the job titles on the x-axis and their corresponding counts on the y-axis. The plot is styled with the \"viridis\" color palette. Additional formatting includes a title, axis labels, and rotation of the x-axis labels for better readability. Finally, the plot is displayed."
   ]
  },
  {
   "cell_type": "code",
   "execution_count": null,
   "id": "e69a5ee9",
   "metadata": {
    "scrolled": true
   },
   "outputs": [],
   "source": [
    "plt.figure(figsize = (10,6))\n",
    "# plt.bar(x = df4.index, height= df4.values)\n",
    "sns.barplot(x = df4.index, y = df4.values, palette= \"viridis\")\n",
    "plt.title('Top 5 Job Titles', fontweight = 'bold', fontsize = 10, pad = 20)\n",
    "plt.ylabel('Counts')\n",
    "plt.xlabel('Job Title')\n",
    "plt.xticks(rotation = -15)\n",
    "plt.show()"
   ]
  },
  {
   "cell_type": "code",
   "execution_count": null,
   "id": "346bae78",
   "metadata": {},
   "outputs": [],
   "source": [
    "df.head(3)"
   ]
  },
  {
   "cell_type": "markdown",
   "id": "45aabf40",
   "metadata": {},
   "source": [
    "## **Salary Distribution by Company Size:**\n",
    "\n",
    "Analysis investigated the distribution of salaries across different company sizes, providing insights into how salary scales vary based on the size of the company. By visualizing the distribution of salaries, we gained insights into salary trends and disparities across different company sizes."
   ]
  },
  {
   "cell_type": "code",
   "execution_count": null,
   "id": "f946d258",
   "metadata": {},
   "outputs": [],
   "source": [
    "df5 = df[[\"salary_in_usd\", \"company_size\"]]\n",
    "df5"
   ]
  },
  {
   "cell_type": "markdown",
   "id": "24f82604",
   "metadata": {},
   "source": [
    "This code segregates the DataFrame df5 into three separate DataFrames based on company size: 'S' (Small), 'M' (Medium), and 'L' (Large). Then, it calculates the mean salary in USD for each company size category. Finally, it stores the company size labels ('Small', 'Medium', 'Large') and their corresponding mean salaries in the lists labels and sal_mean, respectively."
   ]
  },
  {
   "cell_type": "code",
   "execution_count": null,
   "id": "a5a8c971",
   "metadata": {},
   "outputs": [],
   "source": [
    "S = df5[df5['company_size'] == 'S']\n",
    "S"
   ]
  },
  {
   "cell_type": "code",
   "execution_count": null,
   "id": "05c3be44",
   "metadata": {},
   "outputs": [],
   "source": [
    "M = df5[df5['company_size'] == 'M']\n",
    "M"
   ]
  },
  {
   "cell_type": "code",
   "execution_count": null,
   "id": "8d2b9941",
   "metadata": {},
   "outputs": [],
   "source": [
    "L = df5[df5['company_size'] == \"L\"]\n",
    "L"
   ]
  },
  {
   "cell_type": "code",
   "execution_count": null,
   "id": "4320fdd8",
   "metadata": {},
   "outputs": [],
   "source": [
    "S['salary_in_usd'].mean()"
   ]
  },
  {
   "cell_type": "code",
   "execution_count": null,
   "id": "d7902748",
   "metadata": {},
   "outputs": [],
   "source": [
    " M[\"salary_in_usd\"].mean()"
   ]
  },
  {
   "cell_type": "code",
   "execution_count": null,
   "id": "71e76b28",
   "metadata": {},
   "outputs": [],
   "source": [
    " L[\"salary_in_usd\"].mean()"
   ]
  },
  {
   "cell_type": "code",
   "execution_count": null,
   "id": "572fef14",
   "metadata": {},
   "outputs": [],
   "source": [
    "S = df5[df5['company_size'] == 'S']\n",
    "M = df5[df5['company_size'] == 'M']\n",
    "L = df5[df5['company_size'] == \"L\"]\n",
    "\n",
    "labels = ['Small','Medium', 'Large']\n",
    "sal_mean = [S['salary_in_usd'].mean(), M[\"salary_in_usd\"].mean(), L[\"salary_in_usd\"].mean()]\n",
    "sal_mean"
   ]
  },
  {
   "cell_type": "markdown",
   "id": "7c95a3eb",
   "metadata": {},
   "source": [
    "This code converts the mean salary values in the list sal_mean from USD to thousands and rounds them to two decimal places. Then, it converts each value to a string with 'K' (thousands) appended to denote the unit. The result is stored in the list label_change."
   ]
  },
  {
   "cell_type": "code",
   "execution_count": null,
   "id": "b9429d60",
   "metadata": {},
   "outputs": [],
   "source": [
    "np.round([x/1000 for x in sal_mean], 2)"
   ]
  },
  {
   "cell_type": "raw",
   "id": "07620724",
   "metadata": {},
   "source": [
    "Asssignment explore map function(map)"
   ]
  },
  {
   "cell_type": "markdown",
   "id": "7bfbb1bc",
   "metadata": {},
   "source": [
    "# **-------------------------------------------------------------------**"
   ]
  },
  {
   "cell_type": "code",
   "execution_count": null,
   "id": "aad51918",
   "metadata": {},
   "outputs": [],
   "source": [
    "label_change = np.round([x/1000 for x in sal_mean], 2)\n",
    "label_change = list(map(str, label_change))\n",
    "label_change = [x + ' K' for x in label_change]\n",
    "label_change\n"
   ]
  },
  {
   "cell_type": "markdown",
   "id": "27cffc09",
   "metadata": {},
   "source": [
    "This code creates a bar plot to visualize the distribution of salaries by company size. It uses the mean salary values (sal_mean) for each company size category (labels). The bar labels are updated with the mean salaries in thousands. "
   ]
  },
  {
   "cell_type": "code",
   "execution_count": null,
   "id": "61a7d168",
   "metadata": {},
   "outputs": [],
   "source": [
    "z = plt.bar(labels, sal_mean)\n",
    "plt.bar_label(z,label_change, alpha = 0.8)\n",
    "plt.title('Distribution of salary by comapny size')\n",
    "plt.xlabel('Size of company')\n",
    "plt.ylabel('Salary in usd')\n",
    "plt.show()"
   ]
  },
  {
   "cell_type": "markdown",
   "id": "8c16aeab",
   "metadata": {},
   "source": [
    "This code creates overlaid histograms to visualize the distribution of salaries for companies of different sizes. Each histogram represents a different company size category ('Small', 'Medium', 'Large'), with kernel density estimation (KDE) curves plotted alongside."
   ]
  },
  {
   "cell_type": "code",
   "execution_count": null,
   "id": "a1f996d5",
   "metadata": {},
   "outputs": [],
   "source": [
    "sns.histplot(S['salary_in_usd'], label = 'Small', kde = True)\n",
    "sns.histplot(M['salary_in_usd'], label = 'Medium', kde = True)\n",
    "sns.histplot(L['salary_in_usd'], label = 'Large', kde = True)\n",
    "plt.title('Distribution salary by comapny size')\n",
    "plt.xlabel('salary in usd')\n",
    "plt.show()"
   ]
  },
  {
   "cell_type": "code",
   "execution_count": null,
   "id": "273149ef",
   "metadata": {},
   "outputs": [],
   "source": [
    "df.head()"
   ]
  },
  {
   "cell_type": "markdown",
   "id": "e4fa8703",
   "metadata": {},
   "source": [
    "## **Experience Level Distribution:**\n",
    "\n",
    "Lastly, explored the distribution of experience levels within the dataset, providing insights into the composition of workforce experience across different levels. By visualizing the distribution of experience levels, we gained insights into the career progression and experience diversity within the workforce."
   ]
  },
  {
   "cell_type": "code",
   "execution_count": null,
   "id": "021a4b5b",
   "metadata": {},
   "outputs": [],
   "source": [
    "df6 = df.experience_level.value_counts()\n",
    "df6"
   ]
  },
  {
   "cell_type": "code",
   "execution_count": null,
   "id": "06c6f45f",
   "metadata": {},
   "outputs": [],
   "source": [
    "df6.index.to_list()"
   ]
  },
  {
   "cell_type": "markdown",
   "id": "def45564",
   "metadata": {},
   "source": [
    "'SE' is mapped to 'Senior'\n",
    "\n",
    "'MI' is mapped to 'Middle'\n",
    "\n",
    "'EN' is mapped to 'Entry Level'\n",
    "\n",
    "'Ex' is mapped to 'Executive'"
   ]
  },
  {
   "cell_type": "code",
   "execution_count": null,
   "id": "073baa74",
   "metadata": {},
   "outputs": [],
   "source": [
    "exp_mp = {\n",
    "    'SE' : 'Senior',\n",
    "    'MI' : 'Middle',\n",
    "    'EN' : 'Entry Level',\n",
    "    'Ex' : 'Executive'\n",
    "}"
   ]
  },
  {
   "cell_type": "code",
   "execution_count": null,
   "id": "bf2e1455",
   "metadata": {},
   "outputs": [],
   "source": [
    "df['experience_level'].replace(exp_mp, inplace = True)"
   ]
  },
  {
   "cell_type": "code",
   "execution_count": null,
   "id": "dff1fb6c",
   "metadata": {},
   "outputs": [],
   "source": [
    "df.head()"
   ]
  },
  {
   "cell_type": "code",
   "execution_count": null,
   "id": "44c13fb5",
   "metadata": {},
   "outputs": [],
   "source": [
    "df6 = df.experience_level.value_counts()\n",
    "df6"
   ]
  },
  {
   "cell_type": "code",
   "execution_count": null,
   "id": "135b1583",
   "metadata": {},
   "outputs": [],
   "source": [
    "labels = df6.index.to_list()\n",
    "labels"
   ]
  },
  {
   "cell_type": "code",
   "execution_count": null,
   "id": "3d818600",
   "metadata": {},
   "outputs": [],
   "source": [
    "values = df6.values\n",
    "values"
   ]
  },
  {
   "cell_type": "markdown",
   "id": "28dd5fdd",
   "metadata": {},
   "source": [
    "This code creates a pie chart to visualize the distribution of experience levels. It uses the values from the DataFrame df6 (stored in values) as input for the pie chart and the labels defined earlier (labels) for the corresponding categories. The chart displays percentages, shadows, and a title before being shown."
   ]
  },
  {
   "cell_type": "code",
   "execution_count": null,
   "id": "79bcfad4",
   "metadata": {},
   "outputs": [],
   "source": [
    "plt.figure(figsize = (6,12))\n",
    "plt.pie(x = values, labels = labels, autopct = '%1.2f%%', shadow = True)\n",
    "plt.title(\"Experience Level\")\n",
    "plt.show()"
   ]
  },
  {
   "cell_type": "markdown",
   "id": "503bad21",
   "metadata": {},
   "source": [
    "## **Conclusion:**\n",
    "\n",
    "In conclusion, this data analysis project offered a comprehensive exploration of workforce dynamics, salary trends, and experience levels within the dataset. The insights gained from this analysis can inform strategic decision-making processes, career planning strategies, and workforce management initiatives."
   ]
  }
 ],
 "metadata": {
  "kernelspec": {
   "display_name": "Python 3 (ipykernel)",
   "language": "python",
   "name": "python3"
  },
  "language_info": {
   "codemirror_mode": {
    "name": "ipython",
    "version": 3
   },
   "file_extension": ".py",
   "mimetype": "text/x-python",
   "name": "python",
   "nbconvert_exporter": "python",
   "pygments_lexer": "ipython3",
   "version": "3.11.7"
  }
 },
 "nbformat": 4,
 "nbformat_minor": 5
}
