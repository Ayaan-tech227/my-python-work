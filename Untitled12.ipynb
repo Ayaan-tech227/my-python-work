{
 "cells": [
  {
   "cell_type": "code",
   "execution_count": 1,
   "id": "9f9cdfd5-e564-437b-b70a-96bb4e472f75",
   "metadata": {},
   "outputs": [
    {
     "name": "stdout",
     "output_type": "stream",
     "text": [
      "10\n"
     ]
    }
   ],
   "source": [
    "print(abs(-10))"
   ]
  },
  {
   "cell_type": "code",
   "execution_count": 2,
   "id": "bcb35030-310c-4ba6-9751-fadcf38a206a",
   "metadata": {},
   "outputs": [
    {
     "name": "stdout",
     "output_type": "stream",
     "text": [
      "False\n"
     ]
    }
   ],
   "source": [
    "print(all([True,True,False]))"
   ]
  },
  {
   "cell_type": "code",
   "execution_count": null,
   "id": "32657917-2781-4512-a7c4-bc81cdb2460c",
   "metadata": {},
   "outputs": [],
   "source": [
    "print(any([True,True,False]))"
   ]
  },
  {
   "cell_type": "code",
   "execution_count": 6,
   "id": "1d5da3ed-c0df-4391-8189-a40a4ab9c8d4",
   "metadata": {},
   "outputs": [
    {
     "name": "stdout",
     "output_type": "stream",
     "text": [
      "67\n"
     ]
    }
   ],
   "source": [
    "print(ord('C'))"
   ]
  },
  {
   "cell_type": "code",
   "execution_count": 7,
   "id": "488a5102-d310-4969-9561-52ebe4c1b48c",
   "metadata": {},
   "outputs": [
    {
     "name": "stdout",
     "output_type": "stream",
     "text": [
      "0b100100\n"
     ]
    }
   ],
   "source": [
    "print(bin(36))"
   ]
  },
  {
   "cell_type": "code",
   "execution_count": 8,
   "id": "89ecd231-f4e9-4492-b005-e995cbc1260b",
   "metadata": {},
   "outputs": [
    {
     "name": "stdout",
     "output_type": "stream",
     "text": [
      "False\n",
      "True\n"
     ]
    }
   ],
   "source": [
    "print(bool(0))\n",
    "print(bool(56))"
   ]
  },
  {
   "cell_type": "code",
   "execution_count": 10,
   "id": "2353234a-090f-4017-91fc-c81e4c0a836c",
   "metadata": {},
   "outputs": [
    {
     "name": "stdout",
     "output_type": "stream",
     "text": [
      "Help on built-in function print in module builtins:\n",
      "\n",
      "print(*args, sep=' ', end='\\n', file=None, flush=False)\n",
      "    Prints the values to a stream, or to sys.stdout by default.\n",
      "    \n",
      "    sep\n",
      "      string inserted between values, default a space.\n",
      "    end\n",
      "      string appended after the last value, default a newline.\n",
      "    file\n",
      "      a file-like object (stream); defaults to the current sys.stdout.\n",
      "    flush\n",
      "      whether to forcibly flush the stream.\n",
      "\n"
     ]
    }
   ],
   "source": [
    "help(print)"
   ]
  },
  {
   "cell_type": "code",
   "execution_count": 12,
   "id": "5773ddbe-4952-45d7-b971-c690d7adb80c",
   "metadata": {},
   "outputs": [
    {
     "name": "stdout",
     "output_type": "stream",
     "text": [
      "bytearray(b'Hi')\n"
     ]
    }
   ],
   "source": [
    "print(bytearray('Hi','utf-8'))"
   ]
  },
  {
   "cell_type": "code",
   "execution_count": null,
   "id": "77a1375a-218f-4d85-8005-4a0839b30e1e",
   "metadata": {},
   "outputs": [],
   "source": []
  }
 ],
 "metadata": {
  "kernelspec": {
   "display_name": "Python 3 (ipykernel)",
   "language": "python",
   "name": "python3"
  },
  "language_info": {
   "codemirror_mode": {
    "name": "ipython",
    "version": 3
   },
   "file_extension": ".py",
   "mimetype": "text/x-python",
   "name": "python",
   "nbconvert_exporter": "python",
   "pygments_lexer": "ipython3",
   "version": "3.11.7"
  }
 },
 "nbformat": 4,
 "nbformat_minor": 5
}
